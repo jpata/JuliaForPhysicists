{
 "cells": [
  {
   "cell_type": "markdown",
   "metadata": {},
   "source": [
    "# Histograms"
   ]
  },
  {
   "cell_type": "markdown",
   "metadata": {},
   "source": [
    "Install the histogram packages for root-to-julia interoperability if you don't have them yet.\n",
    "\n",
    "~~~\n",
    "julia> Pkg.clone(\"https://github.com/jpata/ROOTHistograms.jl\")\n",
    "julia> Pkg.clone(\"https://github.com/jpata/Histograms.jl\")\n",
    "~~~"
   ]
  },
  {
   "cell_type": "code",
   "execution_count": 75,
   "metadata": {
    "collapsed": true
   },
   "outputs": [],
   "source": [
    "using Histograms, ROOTHistograms, PyPlot, ROOT"
   ]
  },
  {
   "cell_type": "markdown",
   "metadata": {},
   "source": [
    "Julia histograms have no special overflow or underflow bin. If you want to define an underflow, the lowest bin must be `[-Inf, firstbin)`. You can achieve this by creating a histogram explicitly with:"
   ]
  },
  {
   "cell_type": "code",
   "execution_count": 102,
   "metadata": {
    "collapsed": false
   },
   "outputs": [
    {
     "data": {
      "text/plain": [
       "Histograms.ErrorHistogram{Float64,1,Tuple{Array{Float64,1}}}\n",
       "edges:\n",
       "  [-Inf,0.0,1.0,2.0,3.0,Inf]\n",
       "weights: [0.0,0.0,0.0,0.0,0.0]\n",
       "closed: left"
      ]
     },
     "execution_count": 102,
     "metadata": {},
     "output_type": "execute_result"
    }
   ],
   "source": [
    "testhist = ErrorHistogram([-Inf, 0,1,2,3, Inf])"
   ]
  },
  {
   "cell_type": "markdown",
   "metadata": {},
   "source": [
    "Hence, anything between [-Inf,0.0) will fall to the first bin."
   ]
  },
  {
   "cell_type": "code",
   "execution_count": 103,
   "metadata": {
    "collapsed": false
   },
   "outputs": [
    {
     "data": {
      "text/plain": [
       "Histograms.ErrorHistogram{Float64,1,Tuple{Array{Float64,1}}}\n",
       "edges:\n",
       "  [-Inf,0.0,1.0,2.0,3.0,Inf]\n",
       "weights: [1.0,0.0,0.0,0.0,0.0]\n",
       "closed: left"
      ]
     },
     "execution_count": 103,
     "metadata": {},
     "output_type": "execute_result"
    }
   ],
   "source": [
    "push!(testhist, -0.5)"
   ]
  },
  {
   "cell_type": "markdown",
   "metadata": {},
   "source": [
    "You can see that the weight in the first bin increased by 1."
   ]
  },
  {
   "cell_type": "code",
   "execution_count": 104,
   "metadata": {
    "collapsed": false
   },
   "outputs": [
    {
     "data": {
      "text/plain": [
       "true"
      ]
     },
     "execution_count": 104,
     "metadata": {},
     "output_type": "execute_result"
    }
   ],
   "source": [
    "contents(testhist)[1] == 1"
   ]
  },
  {
   "cell_type": "markdown",
   "metadata": {},
   "source": [
    "The same holds for the overflow: anything between [3.0,+Inf) will end in the last bin."
   ]
  },
  {
   "cell_type": "code",
   "execution_count": 105,
   "metadata": {
    "collapsed": false
   },
   "outputs": [
    {
     "data": {
      "text/plain": [
       "Histograms.ErrorHistogram{Float64,1,Tuple{Array{Float64,1}}}\n",
       "edges:\n",
       "  [-Inf,0.0,1.0,2.0,3.0,Inf]\n",
       "weights: [1.0,0.0,0.0,0.0,1.0]\n",
       "closed: left"
      ]
     },
     "execution_count": 105,
     "metadata": {},
     "output_type": "execute_result"
    }
   ],
   "source": [
    "push!(testhist, 4.0)"
   ]
  },
  {
   "cell_type": "markdown",
   "metadata": {},
   "source": [
    "We can do this automatically by defining a function which pads a vector with -Inf and +Inf. "
   ]
  },
  {
   "cell_type": "code",
   "execution_count": 92,
   "metadata": {
    "collapsed": false
   },
   "outputs": [],
   "source": [
    "pad(v) = [-Inf, v..., Inf];"
   ]
  },
  {
   "cell_type": "markdown",
   "metadata": {},
   "source": [
    "Note that `linspace(a,b,n)` creates a uniform grid between `a` and `b` in `n` points."
   ]
  },
  {
   "cell_type": "code",
   "execution_count": 131,
   "metadata": {
    "collapsed": false,
    "scrolled": true
   },
   "outputs": [
    {
     "data": {
      "text/plain": [
       "Histograms.ErrorHistogram{Float64,1,Tuple{Array{Float64,1}}}\n",
       "edges:\n",
       "  [-Inf,-1.0,-0.8,-0.6,-0.4,-0.2,0.0,0.2,0.4,0.6,0.8,1.0,Inf]\n",
       "weights: [0.0,0.0,0.0,0.0,0.0,0.0,0.0,0.0,0.0,0.0,0.0,0.0]\n",
       "closed: left"
      ]
     },
     "execution_count": 131,
     "metadata": {},
     "output_type": "execute_result"
    }
   ],
   "source": [
    "h1 = ErrorHistogram(pad(linspace(-1,1,11)))\n",
    "h2 = ErrorHistogram(pad(linspace(-1,1,11)))"
   ]
  },
  {
   "cell_type": "markdown",
   "metadata": {},
   "source": [
    "We can fill the histograms with the `push!` method, which also accepts an optional weight."
   ]
  },
  {
   "cell_type": "code",
   "execution_count": 132,
   "metadata": {
    "collapsed": false,
    "scrolled": true
   },
   "outputs": [],
   "source": [
    "for i=1:1000\n",
    "    v = randn()\n",
    "    push!(h1, v)\n",
    "end\n",
    "\n",
    "for i=1:100\n",
    "    v = randn()\n",
    "    w = 10.0\n",
    "    push!(h2, v, w)\n",
    "end"
   ]
  },
  {
   "cell_type": "markdown",
   "metadata": {},
   "source": [
    "The `ROOTHistograms.jl` has a few simple methods for drawing histograms. "
   ]
  },
  {
   "cell_type": "code",
   "execution_count": 136,
   "metadata": {
    "collapsed": false
   },
   "outputs": [
    {
     "data": {
      "image/png": "[encoded data removed]",
      "text/plain": [
       "PyPlot.Figure(PyObject <matplotlib.figure.Figure object at 0x32575ead0>)"
      ]
     },
     "metadata": {},
     "output_type": "display_data"
    },
    {
     "data": {
      "text/plain": [
       "PyObject <matplotlib.legend.Legend object at 0x325c80250>"
      ]
     },
     "execution_count": 136,
     "metadata": {},
     "output_type": "execute_result"
    }
   ],
   "source": [
    "figure(figsize=(4,4))\n",
    "errorbar(h1, linewidth=0, marker=\"o\", elinewidth=1, color=\"blue\", label=\"hist1\");\n",
    "errorbar(h2, linewidth=0, marker=\"o\", elinewidth=1, color=\"red\", label=\"hist2\");\n",
    "legend(loc=\"best\", frameon=false)"
   ]
  },
  {
   "cell_type": "markdown",
   "metadata": {},
   "source": [
    "Histograms with the same edges can be added."
   ]
  },
  {
   "cell_type": "code",
   "execution_count": 140,
   "metadata": {
    "collapsed": false
   },
   "outputs": [
    {
     "data": {
      "text/plain": [
       "Histograms.ErrorHistogram{Float64,1,Tuple{Array{Float64,1}}}\n",
       "edges:\n",
       "  [-Inf,-1.0,-0.8,-0.6,-0.4,-0.2,0.0,0.2,0.4,0.6,0.8,1.0,Inf]\n",
       "weights: [251.0,84.0,153.0,169.0,222.0,133.0,156.0,112.0,198.0,169.0,116.0,237.0]\n",
       "closed: left"
      ]
     },
     "execution_count": 140,
     "metadata": {},
     "output_type": "execute_result"
    }
   ],
   "source": [
    "h1+h2"
   ]
  },
  {
   "cell_type": "markdown",
   "metadata": {},
   "source": [
    "Stacked histograms can be plotted with using `bottom=v`, where v is the sum of the previous histogram contents."
   ]
  },
  {
   "cell_type": "code",
   "execution_count": 141,
   "metadata": {
    "collapsed": false
   },
   "outputs": [
    {
     "data": {
      "image/png": "[encoded data removed]",
      "text/plain": [
       "PyPlot.Figure(PyObject <matplotlib.figure.Figure object at 0x32551c150>)"
      ]
     },
     "metadata": {},
     "output_type": "display_data"
    }
   ],
   "source": [
    "figure(figsize=(4,4))\n",
    "bar(h1, color=\"blue\", lw=0);\n",
    "bar(h2, bottom=contents(h1), color=\"red\", lw=0);"
   ]
  },
  {
   "cell_type": "markdown",
   "metadata": {},
   "source": [
    "Histograms can be conveniently written to a ROOT file by specifying them in a Dict."
   ]
  },
  {
   "cell_type": "code",
   "execution_count": 143,
   "metadata": {
    "collapsed": false
   },
   "outputs": [],
   "source": [
    "hists = Dict(\n",
    "    \"folder1/hist1\"=>h1,\n",
    "    \"folder2/subfolder2/hist2\"=>h2\n",
    ")\n",
    "write_hists_to_file(\n",
    "    \"hists.root\",\n",
    "    hists\n",
    ")"
   ]
  },
  {
   "cell_type": "code",
   "execution_count": 144,
   "metadata": {
    "collapsed": false
   },
   "outputs": [
    {
     "data": {
      "text/plain": [
       "ROOT.TFile(Ptr{Void} @0x00007fba59be2480)"
      ]
     },
     "execution_count": 144,
     "metadata": {},
     "output_type": "execute_result"
    }
   ],
   "source": [
    "tf = TFile(\"hists.root\")"
   ]
  },
  {
   "cell_type": "markdown",
   "metadata": {},
   "source": [
    "Load and convert the ROOT histogram to a julia histogram."
   ]
  },
  {
   "cell_type": "code",
   "execution_count": 146,
   "metadata": {
    "collapsed": false
   },
   "outputs": [
    {
     "data": {
      "text/plain": [
       "ROOT.TH1D(Ptr{Void} @0x00007fba59b24900)"
      ]
     },
     "execution_count": 146,
     "metadata": {},
     "output_type": "execute_result"
    }
   ],
   "source": [
    "rh1 = root_cast(TH1D, Get(tf, \"folder1/hist1\"))"
   ]
  },
  {
   "cell_type": "markdown",
   "metadata": {},
   "source": [
    "We can verify that the data are preserved after loading."
   ]
  },
  {
   "cell_type": "code",
   "execution_count": 147,
   "metadata": {
    "collapsed": false
   },
   "outputs": [
    {
     "data": {
      "image/png": "[encoded data removed]",
      "text/plain": [
       "PyPlot.Figure(PyObject <matplotlib.figure.Figure object at 0x325cc5f50>)"
      ]
     },
     "metadata": {},
     "output_type": "display_data"
    }
   ],
   "source": [
    "figure(figsize=(4,4))\n",
    "errorbar(from_root(rh1), marker=\"x\")\n",
    "errorbar(h1, marker=\"o\", alpha=0.5);"
   ]
  },
  {
   "cell_type": "code",
   "execution_count": null,
   "metadata": {
    "collapsed": true
   },
   "outputs": [],
   "source": []
  }
 ],
 "metadata": {
  "kernelspec": {
   "display_name": "Julia 0.4.0-rc3",
   "language": "julia",
   "name": "julia-0.4"
  },
  "language_info": {
   "file_extension": ".jl",
   "mimetype": "application/julia",
   "name": "julia",
   "version": "0.4.0"
  }
 },
 "nbformat": 4,
 "nbformat_minor": 0
}
