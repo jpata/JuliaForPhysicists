{
 "cells": [
  {
   "cell_type": "markdown",
   "metadata": {},
   "source": [
    "# Tabular data"
   ]
  },
  {
   "cell_type": "markdown",
   "metadata": {},
   "source": [
    "In this tutorial, we will show how you can access tabular data in the form of ROOT TTrees from julia."
   ]
  },
  {
   "cell_type": "code",
   "execution_count": 1,
   "metadata": {
    "collapsed": false,
    "scrolled": false
   },
   "outputs": [
    {
     "name": "stderr",
     "output_type": "stream",
     "text": [
      "WARNING: Base.String is deprecated, use AbstractString instead.\n"
     ]
    }
   ],
   "source": [
    "using ROOT, ROOTDataFrames, DataFrames, HEP, Histograms, ROOTHistograms"
   ]
  },
  {
   "cell_type": "markdown",
   "metadata": {},
   "source": [
    "First, we download the tutorial data files if they don't already exist. We use the data files from the excellent open data tutorial of the CMS experiment: http://ippog.web.cern.ch/resources/2012/cms-hep-tutorial."
   ]
  },
  {
   "cell_type": "code",
   "execution_count": 2,
   "metadata": {
    "collapsed": false
   },
   "outputs": [],
   "source": [
    "if !isdir(\"HEPTutorial\")\n",
    "    download(\"http://ippog.web.cern.ch/sites/ippog.web.cern.ch/files/HEPTutorial_0.tar\", \"HEPTutorial_0.tar\")\n",
    "    run(`tar xf HEPTutorial_0.tar`)\n",
    "end"
   ]
  },
  {
   "cell_type": "markdown",
   "metadata": {},
   "source": [
    "Check out what data sets are provided."
   ]
  },
  {
   "cell_type": "code",
   "execution_count": 3,
   "metadata": {
    "collapsed": false
   },
   "outputs": [
    {
     "name": "stdout",
     "output_type": "stream",
     "text": [
      "data.root\n",
      "dy.root\n",
      "qcd.root\n",
      "single_top.root\n",
      "ttbar.root\n",
      "wjets.root\n",
      "ww.root\n",
      "wz.root\n",
      "zz.root\n"
     ]
    }
   ],
   "source": [
    "run(`ls HEPTutorial/files`)"
   ]
  },
  {
   "cell_type": "markdown",
   "metadata": {},
   "source": [
    "We create a data table from the file. Note that the data is not loaded to memory, but accessed from disk when the need arises."
   ]
  },
  {
   "cell_type": "code",
   "execution_count": 4,
   "metadata": {
    "collapsed": false
   },
   "outputs": [],
   "source": [
    "df = TreeDataFrame([\"HEPTutorial/files/data.root\"]; treename=\"events\");"
   ]
  },
  {
   "cell_type": "markdown",
   "metadata": {},
   "source": [
    "Let us inspect the contents of the data. We are given the Eltype (data type) of a branch. The size column indicates whether a branch is scalar (size=1), a vector with fixed size (size>1) or a dynamic vector indexed by another branch (size=string)."
   ]
  },
  {
   "cell_type": "code",
   "execution_count": 5,
   "metadata": {
    "collapsed": false
   },
   "outputs": [
    {
     "name": "stdout",
     "output_type": "stream",
     "text": [
      "469384x51 ROOTDataFrames.TreeDataFrame{ROOTDataFrames.##RowData#7759}\n",
      "| Col # | Name                        | Eltype           | sizes     |\n",
      "|-------|-----------------------------|------------------|-----------|\n",
      "| 1     | NJet                        | Int32            | 1         |\n",
      "| 2     | Jet_Px                      | Array{Float32,1} | NJet      |\n",
      "| 3     | Jet_Py                      | Array{Float32,1} | NJet      |\n",
      "| 4     | Jet_Pz                      | Array{Float32,1} | NJet      |\n",
      "| 5     | Jet_E                       | Array{Float32,1} | NJet      |\n",
      "| 6     | Jet_btag                    | Array{Float32,1} | NJet      |\n",
      "| 7     | Jet_ID                      | Array{Bool,1}    | NJet      |\n",
      "| 8     | NMuon                       | Int32            | 1         |\n",
      "| 9     | Muon_Px                     | Array{Float32,1} | NMuon     |\n",
      "| 10    | Muon_Py                     | Array{Float32,1} | NMuon     |\n",
      "| 11    | Muon_Pz                     | Array{Float32,1} | NMuon     |\n",
      "| 12    | Muon_E                      | Array{Float32,1} | NMuon     |\n",
      "| 13    | Muon_Charge                 | Array{Int32,1}   | NMuon     |\n",
      "| 14    | Muon_Iso                    | Array{Float32,1} | NMuon     |\n",
      "| 15    | NElectron                   | Int32            | 1         |\n",
      "| 16    | Electron_Px                 | Array{Float32,1} | NElectron |\n",
      "| 17    | Electron_Py                 | Array{Float32,1} | NElectron |\n",
      "| 18    | Electron_Pz                 | Array{Float32,1} | NElectron |\n",
      "| 19    | Electron_E                  | Array{Float32,1} | NElectron |\n",
      "| 20    | Electron_Charge             | Array{Int32,1}   | NElectron |\n",
      "| 21    | Electron_Iso                | Array{Float32,1} | NElectron |\n",
      "| 22    | NPhoton                     | Int32            | 1         |\n",
      "| 23    | Photon_Px                   | Array{Float32,1} | NPhoton   |\n",
      "| 24    | Photon_Py                   | Array{Float32,1} | NPhoton   |\n",
      "| 25    | Photon_Pz                   | Array{Float32,1} | NPhoton   |\n",
      "| 26    | Photon_E                    | Array{Float32,1} | NPhoton   |\n",
      "| 27    | Photon_Iso                  | Array{Float32,1} | NPhoton   |\n",
      "| 28    | MET_px                      | Float32          | 1         |\n",
      "| 29    | MET_py                      | Float32          | 1         |\n",
      "| 30    | MChadronicBottom_px         | Float32          | 1         |\n",
      "| 31    | MChadronicBottom_py         | Float32          | 1         |\n",
      "| 32    | MChadronicBottom_pz         | Float32          | 1         |\n",
      "| 33    | MCleptonicBottom_px         | Float32          | 1         |\n",
      "| 34    | MCleptonicBottom_py         | Float32          | 1         |\n",
      "| 35    | MCleptonicBottom_pz         | Float32          | 1         |\n",
      "| 36    | MChadronicWDecayQuark_px    | Float32          | 1         |\n",
      "| 37    | MChadronicWDecayQuark_py    | Float32          | 1         |\n",
      "| 38    | MChadronicWDecayQuark_pz    | Float32          | 1         |\n",
      "| 39    | MChadronicWDecayQuarkBar_px | Float32          | 1         |\n",
      "| 40    | MChadronicWDecayQuarkBar_py | Float32          | 1         |\n",
      "| 41    | MChadronicWDecayQuarkBar_pz | Float32          | 1         |\n",
      "| 42    | MClepton_px                 | Float32          | 1         |\n",
      "| 43    | MClepton_py                 | Float32          | 1         |\n",
      "| 44    | MClepton_pz                 | Float32          | 1         |\n",
      "| 45    | MCleptonPDGid               | Int32            | 1         |\n",
      "| 46    | MCneutrino_px               | Float32          | 1         |\n",
      "| 47    | MCneutrino_py               | Float32          | 1         |\n",
      "| 48    | MCneutrino_pz               | Float32          | 1         |\n",
      "| 49    | NPrimaryVertices            | Int32            | 1         |\n",
      "| 50    | triggerIsoMu24              | Bool             | 1         |\n",
      "| 51    | EventWeight                 | Float32          | 1         |"
     ]
    }
   ],
   "source": [
    "show(STDOUT, df)"
   ]
  },
  {
   "cell_type": "markdown",
   "metadata": {},
   "source": [
    "Using the following syntax, we can load contents of branches directly to memory to perform analysis on them."
   ]
  },
  {
   "cell_type": "code",
   "execution_count": 69,
   "metadata": {
    "collapsed": false
   },
   "outputs": [],
   "source": [
    "numJets = df[:NJet];\n",
    "energies = df[:Jet_E];"
   ]
  },
  {
   "cell_type": "markdown",
   "metadata": {},
   "source": [
    "We calculate the mean number of jets in two cases: all events and events with at least one jet."
   ]
  },
  {
   "cell_type": "code",
   "execution_count": 70,
   "metadata": {
    "collapsed": false
   },
   "outputs": [
    {
     "data": {
      "text/plain": [
       "(0.2689524994460825,1.3492294209435052)"
      ]
     },
     "execution_count": 70,
     "metadata": {},
     "output_type": "execute_result"
    }
   ],
   "source": [
    "mean(numJets), mean(numJets[numJets .> 0])"
   ]
  },
  {
   "cell_type": "markdown",
   "metadata": {},
   "source": [
    "For example, we can manually count the number of events with specific jet multiplicities."
   ]
  },
  {
   "cell_type": "code",
   "execution_count": 72,
   "metadata": {
    "collapsed": false
   },
   "outputs": [
    {
     "name": "stdout",
     "output_type": "stream",
     "text": [
      "375818 events with 0 jets\n",
      "66967 events with 1 jets\n",
      "21919 events with 2 jets\n",
      "3643 events with 3 jets\n",
      "770 events with 4 jets\n",
      "195 events with 5 jets\n",
      "57 events with 6 jets\n",
      "12 events with 7 jets\n",
      "1 events with 8 jets\n",
      "1 events with 9 jets\n",
      "1 events with 10 jets\n"
     ]
    }
   ],
   "source": [
    "for njet=0:10\n",
    "    numevents = count(x->x == njet, numJets)\n",
    "    println(\"$numevents events with $njet jets\")\n",
    "end"
   ]
  },
  {
   "cell_type": "markdown",
   "metadata": {},
   "source": [
    "We can also loop over all the events without loading them to memory at once."
   ]
  },
  {
   "cell_type": "code",
   "execution_count": 73,
   "metadata": {
    "collapsed": false,
    "scrolled": false
   },
   "outputs": [],
   "source": [
    "#enable this to print out the event contents\n",
    "doprint = false\n",
    "\n",
    "#we create a histogram for the jet transverse momentum spectrum\n",
    "hjet_pt = ErrorHistogram(linspace(0,500,101))\n",
    "\n",
    "#and also a coarses 2D distribution of pt vs. eta\n",
    "hjet_pt_eta = ErrorHistogram(linspace(0,500,21), linspace(-5,5,21))\n",
    "\n",
    "\n",
    "#loop over all rows\n",
    "for iev=1:nrow(df)\n",
    "    #load this row to memory\n",
    "    #we specify only the branches we need\n",
    "    load_row(df, iev, [:NJet, :Jet_E, :Jet_Px, :Jet_Py, :Jet_Pz, :EventWeight])\n",
    "    \n",
    "    #in general, events may be weighted\n",
    "    w = value(df.row.EventWeight)\n",
    "    \n",
    "    doprint && println(\"--- Event $iev w=$(round(w,2))\")\n",
    "    \n",
    "    #load the jet kinematics\n",
    "    nj = df[iev, :NJet]\n",
    "    jets_E = df[iev, :Jet_E]\n",
    "    jets_px = df[iev, :Jet_Px]\n",
    "    jets_py = df[iev, :Jet_Py]\n",
    "    jets_pz = df[iev, :Jet_Pz]\n",
    "    \n",
    "    #create an emtpy list of four-momenta for the jets\n",
    "    jet_p4 = Array(FourVector, nj)\n",
    "    \n",
    "    #loop over the jets to fill the four-momentum vectors\n",
    "    for ijet=1:nj\n",
    "        p4 = FourVector(jets_E[ijet], jets_px[ijet] ,jets_py[ijet], jets_pz[ijet])\n",
    "        jet_p4[ijet] = p4\n",
    "        m = round(HEP.l(p4), 2)\n",
    "        pt = round(HEP.perp(p4), 2)\n",
    "        eta = round(HEP.eta(p4), 2)\n",
    "        phi = round(HEP.phi(p4), 2)\n",
    "        \n",
    "        doprint && println(\"Jet $ijet (m, pt, eta, phi) = ($m, $pt, $eta, $phi)\")\n",
    "        \n",
    "        #fill the histogram\n",
    "        push!(hjet_pt, pt, w)\n",
    "        push!(hjet_pt_eta, (pt, eta), w)\n",
    "    end\n",
    "end"
   ]
  },
  {
   "cell_type": "markdown",
   "metadata": {},
   "source": [
    "Now we would like to visualize the jet momentum spectra. ROOTHistograms.jl contains a definition of the visualization method `errorbar` for histograms."
   ]
  },
  {
   "cell_type": "code",
   "execution_count": 74,
   "metadata": {
    "collapsed": false
   },
   "outputs": [],
   "source": [
    "using PyPlot\n",
    "import PyPlot.errorbar"
   ]
  },
  {
   "cell_type": "code",
   "execution_count": 75,
   "metadata": {
    "collapsed": false
   },
   "outputs": [
    {
     "data": {
      "image/png": "[encoded data removed]",
      "text/plain": [
       "PyPlot.Figure(PyObject <matplotlib.figure.Figure object at 0x32ae7b110>)"
      ]
     },
     "metadata": {},
     "output_type": "display_data"
    },
    {
     "data": {
      "text/plain": [
       "PyObject <matplotlib.legend.Legend object at 0x32bbbd8d0>"
      ]
     },
     "execution_count": 75,
     "metadata": {},
     "output_type": "execute_result"
    }
   ],
   "source": [
    "figure(figsize=(4,4))\n",
    "errorbar(hjetpt, elinewidth=1, color=\"black\", marker=\"o\", label=\"data\", linewidth=0, markersize=4.0)\n",
    "yscale(\"log\")\n",
    "ylim(1.0, 100000)\n",
    "xlabel(\"Jet \\$p_T\\$ [GeV]\")\n",
    "\n",
    "#we get the bin size from the histogram\n",
    "binsize = round(diff(edges(hjetpt)[1])[1],2)\n",
    "ylabel(\"events / $binsize Gev\")\n",
    "\n",
    "title(\"CMS open data \\$\\\\sqrt{s}=7\\$ TeV\")\n",
    "legend(frameon=false, numpoints=1)"
   ]
  },
  {
   "cell_type": "code",
   "execution_count": 76,
   "metadata": {
    "collapsed": false
   },
   "outputs": [],
   "source": [
    "using PyCall\n",
    "@pyimport matplotlib.colors as mpl_colors"
   ]
  },
  {
   "cell_type": "code",
   "execution_count": 77,
   "metadata": {
    "collapsed": false
   },
   "outputs": [
    {
     "data": {
      "image/png": "[encoded data removed]",
      "text/plain": [
       "PyPlot.Figure(PyObject <matplotlib.figure.Figure object at 0x32b2a6550>)"
      ]
     },
     "metadata": {},
     "output_type": "display_data"
    },
    {
     "data": {
      "text/plain": [
       "PyObject <matplotlib.text.Text object at 0x32bbff150>"
      ]
     },
     "execution_count": 77,
     "metadata": {},
     "output_type": "execute_result"
    }
   ],
   "source": [
    "figure(figsize=(5,4))\n",
    "imshow(\n",
    "    #transpose because otherwise 1st axis (x) is vertical as for matrices\n",
    "    contents(hjet_pt_eta)|>transpose,\n",
    "    cmap=\"Reds\",\n",
    "    #manually set axis range [xlow, xhigh, ylow, yhigh]\n",
    "    extent=[0,500,-5,5],\n",
    "    aspect=\"auto\",\n",
    "    interpolation=\"none\",\n",
    "    #log normalized z axis\n",
    "    norm=mpl_colors.LogNorm(vmin=1.0, vmax=100000)\n",
    ")\n",
    "colorbar(label=\"events\")\n",
    "xlabel(\"Jet \\$p_T\\$ [GeV]\")\n",
    "ylabel(\"Jet \\$\\\\eta\\$\")\n"
   ]
  }
 ],
 "metadata": {
  "kernelspec": {
   "display_name": "Julia 0.4.0-rc3",
   "language": "julia",
   "name": "julia-0.4"
  },
  "language_info": {
   "file_extension": ".jl",
   "mimetype": "application/julia",
   "name": "julia",
   "version": "0.4.0"
  }
 },
 "nbformat": 4,
 "nbformat_minor": 0
}
