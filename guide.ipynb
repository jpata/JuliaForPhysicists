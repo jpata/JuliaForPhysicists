{
 "cells": [
  {
   "cell_type": "markdown",
   "metadata": {},
   "source": [
    "Copyright (c) 2015 Joosep Pata\n",
    "\n",
    "THE SOFTWARE AND DOCUMENTATION IS PROVIDED \"AS IS\", WITHOUT WARRANTY OF ANY KIND, EXPRESS OR IMPLIED, INCLUDING BUT NOT LIMITED TO THE WARRANTIES OF MERCHANTABILITY, FITNESS FOR A PARTICULAR PURPOSE AND NONINFRINGEMENT. IN NO EVENT SHALL THE AUTHORS OR COPYRIGHT HOLDERS BE LIABLE FOR ANY CLAIM, DAMAGES OR OTHER LIABILITY, WHETHER IN AN ACTION OF CONTRACT, TORT OR OTHERWISE, ARISING FROM, OUT OF OR IN CONNECTION WITH THE SOFTWARE OR THE USE OR OTHER DEALINGS IN THE SOFTWARE."
   ]
  },
  {
   "cell_type": "markdown",
   "metadata": {},
   "source": [
    "Contact: joosep.pata@cern.ch"
   ]
  },
  {
   "cell_type": "markdown",
   "metadata": {},
   "source": [
    "## Table of contents"
   ]
  },
  {
   "cell_type": "markdown",
   "metadata": {},
   "source": [
    "1. [Introductory guide](https://github.com/jpata/JuliaForPhysicists/blob/master/guide.ipynb)\n",
    "2. Tabular data: TTrees and data frames"
   ]
  },
  {
   "cell_type": "markdown",
   "metadata": {},
   "source": [
    "## Introduction"
   ]
  },
  {
   "cell_type": "markdown",
   "metadata": {},
   "source": [
    "This guide is meant to help physicists get up and running with julia, the notebook system and the julia->ROOT interface. A short set of slides summarizing julia is here: https://github.com/jpata/julia-talk-rootworkshop/blob/master/julia.pdf\n",
    "\n",
    "It is geared towards people with a bit of experience in bash, unix commands, C/C++ and Python.\n",
    "\n",
    "Currently, the instructions in this guide are OSX-centric, meant to install julia on a Macbook.\n",
    "\n",
    "The following blocks stand for code which you should execute\n",
    "~~~\n",
    "$ shell/bash commands\n",
    "julia> commands in the julia repl\n",
    "~~~\n",
    "\n"
   ]
  },
  {
   "cell_type": "markdown",
   "metadata": {},
   "source": [
    "## Getting the software"
   ]
  },
  {
   "cell_type": "markdown",
   "metadata": {},
   "source": [
    "The recommended way to install the core **julia** is to download the binaries from http://julialang.org/downloads. The latest version is currently **v0.4.0-rc2**. Take care not to download a *0.3* release, which is missing some features that the ROOT package relies on.\n",
    "\n",
    "On OSX, the installation is via a simple app which you can download from the link below and place under `/Applications`: https://s3.amazonaws.com/julialang/bin/osx/x64/0.4/julia-0.4.0-rc2-osx10.7+.dmg\n",
    "\n",
    "The julia terminal can be launched by double clicking the app. Note, however, that this is **not** the recommended way to use julia for work.\n",
    "Instead, let us make the julia executable accessible from every terminal by adding it to search path."
   ]
  },
  {
   "cell_type": "markdown",
   "metadata": {},
   "source": [
    "#### Adding julia to PATH"
   ]
  },
  {
   "cell_type": "markdown",
   "metadata": {},
   "source": [
    "We want to tell our system where to find julia, so that julia programs could be run from the terminal simply with `julia prog.jl`.\n",
    "Run the julia application once and type into the prompt:\n",
    "\n",
    "~~~\n",
    "julia> JULIA_HOME\n",
    "/Applications/Julia-0.4.0-rc2.app/Contents/Resources/julia/bin\n",
    "~~~\n",
    "\n",
    "You should see the path to the julia executable. Now execute the following\n",
    "\n",
    "~~~\n",
    "$ echo \"export PATH=/Applications/Julia-0.4.0-rc2.app/Contents/Resources/julia/bin:\\$PATH\" >> ~/.bash_profile\n",
    "~~~\n",
    "to add the julia search path to the end of the `~/.bash_profile` file, taking care to change the julia path to what was actually printed for you."
   ]
  },
  {
   "cell_type": "markdown",
   "metadata": {},
   "source": [
    "### Running julia"
   ]
  },
  {
   "cell_type": "markdown",
   "metadata": {},
   "source": [
    "To run standard julia, you just need to open a terminal (Applications->Terminal) and type `julia`. You will then be in the REPL. You can disable the banner and version info by running `julia -q`.\n",
    "~~~\n",
    "$ julia\n",
    "               _\n",
    "   _       _ _(_)_     |  A fresh approach to technical computing\n",
    "  (_)     | (_) (_)    |  Documentation: http://docs.julialang.org\n",
    "   _ _   _| |_  __ _   |  Type \"?help\" for help.\n",
    "  | | | | | | |/ _` |  |\n",
    "  | | |_| | | | (_| |  |  Version 0.4.0-rc2 (2015-09-18 17:51 UTC)\n",
    " _/ |\\__'_|_|_|\\__'_|  |  Official http://julialang.org/ release\n",
    "|__/                   |  x86_64-apple-darwin13.4.0\n",
    "\n",
    "\n",
    "julia> exit()\n",
    "$ \n",
    "~~~\n",
    "\n",
    "Of course, any julia program stored in a text file ending with `.jl` can be run also in standalone mode\n",
    "~~~\n",
    "$ cat program.jl \n",
    "x = 0.3*pi\n",
    "println(\"sin($x) = \", sin(x))\n",
    "$ julia program.jl\n",
    "sin(0.9424777960769379) = 0.8090169943749475\n",
    "$\n",
    "~~~"
   ]
  },
  {
   "cell_type": "markdown",
   "metadata": {},
   "source": [
    "### Using the REPL"
   ]
  },
  {
   "cell_type": "markdown",
   "metadata": {},
   "source": [
    "The REPL, short for Read-Eval-Print Loop, is the standard way to interact with julia while testing out new ideas. It hosts the complete julia language in an interactive prompt. Commands you type in will be interpreted, compiled and executed. You will see the output immediately.\n",
    "\n",
    "Very briefly, the essentials of the REPL are:\n",
    "  * Exit the REPL by typing *Ctrl-D* on the keyboard or `exit()` to the julia prompt.\n",
    "  * *Up* and *Down* arrows navigate between the previous commands.\n",
    "  * *Tab* auto-completes your command using known julia expressions.\n",
    "  ~~~\n",
    "  julia> Comp *press Tab*\n",
    "Complex            Complex128          Complex32           Complex64           CompositeException\n",
    "  ~~~\n",
    "  * *Ctrl-R* enables the search through your previous commands. *Esc* to cancel, *Enter* to use the result.\n",
    "    ~~~\n",
    "    *press Ctrl-R, type \"asd\"*\n",
    "    (reverse-i-search)`asd': r = TFile(\"asd.root\", \"RECREATE\")\n",
    "    *Enter* to execute\n",
    "    ~~~\n",
    "  * `ans` is a julia variable which contains the result of the last computation.\n",
    "    ~~~\n",
    "    julia> 1+2\n",
    "    3\n",
    "\n",
    "    julia> ans\n",
    "    3\n",
    "    ~~~\n",
    "  * The `;` character is **not necessary as a line terminator**. However, it can be used to write multiple commands on one line, e.g.\n",
    "    ~~~\n",
    "    julia> x=2/3*pi; sin(x)\n",
    "    0.8660254037844387\n",
    "    ~~~\n",
    "    Also, finalizing a julia command with `;` in an interactive environment such as the REPL or notebook tells julia **not** to print the value from the evaluation of the command. \n",
    "  * To enter a multi-line command, press *Shift-Enter* to add a new line and *Enter* to finish the command. For example: \n",
    "    ~~~\n",
    "    julia> x=0;for i=1:100\n",
    "             x += i^2\n",
    "           end\n",
    "    ~~~\n",
    "  "
   ]
  },
  {
   "cell_type": "markdown",
   "metadata": {},
   "source": [
    "### Installing packages"
   ]
  },
  {
   "cell_type": "markdown",
   "metadata": {},
   "source": [
    "In julia, downloading the julia itself gets you only the core language. Additional functionality must be added through packages.\n",
    "Julia has a built-in git-based package system which does most of the work for you.\n",
    "\n",
    "Packages will be installed to the following directory by default:\n",
    "~~~\n",
    "julia> Pkg.dir()\n",
    "\"/Users/joosep/.julia/v0.4\"\n",
    "~~~\n",
    "\n",
    "You can list the installed packages and their versions using:\n",
    "~~~\n",
    "julia> Pkg.status()\n",
    "19 required packages:\n",
    " - ApproxFun                     0.0.8\n",
    " - Blosc                         0.1.4\n",
    " - Clang                         0.0.5\n",
    " ...\n",
    "~~~\n",
    "\n",
    "Note that by default you won't have any packages installed.\n",
    "\n",
    "Refresh the package database which is stored on github using\n",
    "~~~\n",
    "julia> Pkg.update()\n",
    "~~~\n",
    "\n",
    "Now you are ready to install packages.\n",
    "\n",
    "A list of all julia packages can be found at the official repository in http://pkg.julialang.org/. Make sure to click on `0.4` to select packages compatible with the correct version.\n",
    "\n",
    "Julia packages are all github repositories and their names end with `.jl` to denote that they belong to the julia ecosystem. A few useful packages for physics are:\n",
    "  * [PyPlot.jl](https://github.com/stevengj/PyCall.jl) for making plots using the python plotting library [matplotlib](http://matplotlib.org/).\n",
    "  * [IJulia.jl](https://github.com/stevengj/IJulia.jl) the interactive notebook interface, explained in the section *Installing the notebook: IJulia*.\n",
    "  * [DataFrames.jl](https://github.com/JuliaStats/DataFrames.jl) for managing tabular data.\n",
    "  * [StatsBase.jl](https://github.com/JuliaStats/StatsBase.jl) for simple statistical methods, histograms.\n",
    "  * [Distributions.jl](https://github.com/JuliaStats/Distributions.jl) for manipulating probability distributions.\n",
    "  * [PyCall.jl](https://github.com/stevengj/PyCall.jl) for calling python code from julia.\n",
    "\n",
    "  \n",
    "To install a package which is officially released to the julia repository (all of the above), just call the following, without the `.jl` suffix\n",
    "~~~\n",
    "julia> Pkg.add(\"PyPlot\")\n",
    "julia> Pkg.add(\"Distributions\")\n",
    "julia> Pkg.add(\"StatsBase\")\n",
    "~~~\n",
    "This will get PyPlot, some statistical packages and all the dependencies."
   ]
  },
  {
   "cell_type": "markdown",
   "metadata": {},
   "source": [
    "**IMPORTANT: After installing a package, restart the julia exe. Otherwise, problems with precompilation might occur.**"
   ]
  },
  {
   "cell_type": "markdown",
   "metadata": {},
   "source": [
    "After a successful installation, you can use PyPlot with:"
   ]
  },
  {
   "cell_type": "code",
   "execution_count": 86,
   "metadata": {
    "collapsed": false
   },
   "outputs": [
    {
     "data": {
      "image/png": "[encoded data removed]",
      "text/plain": [
       "PyPlot.Figure(PyObject <matplotlib.figure.Figure object at 0x3244ef3d0>)"
      ]
     },
     "metadata": {},
     "output_type": "display_data"
    }
   ],
   "source": [
    "using PyPlot\n",
    "x = 0:0.01:2*pi\n",
    "PyPlot.figure(figsize=(3,3))\n",
    "PyPlot.plot(x, sin(x));\n",
    "PyPlot.plot(x, cos(x));\n",
    "PyPlot.savefig(\"figure.pdf\")"
   ]
  },
  {
   "cell_type": "markdown",
   "metadata": {},
   "source": [
    "PyPlot can be used interactively from the REPL or in batch mode, saving the plots to files. PyPlot also integrates well with the julia notebook, which we will look at next."
   ]
  },
  {
   "cell_type": "markdown",
   "metadata": {},
   "source": [
    "### Installing the notebook: IJulia"
   ]
  },
  {
   "cell_type": "markdown",
   "metadata": {
    "collapsed": true
   },
   "source": [
    "IJulia offers a notebook-like interface familiar from Mathematica, built on top of the venerable IPython/Jupyter package.\n",
    "\n",
    "#### Default installation\n",
    "IJulia can be installed automatically using the Pkg system:\n",
    "~~~\n",
    "Pkg.add(\"IJulia\")\n",
    "~~~\n",
    "In case your system does not have a recent python version(>=2.7) or the Jupyter package, it will attempt to install them along with IJulia in such a way that they would not affect the rest of the system.\n",
    "\n",
    "You can test the notebook with\n",
    "~~~\n",
    "julia> using IJulia\n",
    "julia> notebook()\n",
    "~~~\n",
    "which should open a browser window. In case that does not work, try the manual installation.\n",
    "\n",
    "#### Manual installation\n",
    "\n",
    "If the automatic IJulia installation did not work, you can install a recent version of python manually using Anaconda from http://continuum.io/downloads.\n",
    "\n",
    "First, clean up the IJulia package using\n",
    "~~~\n",
    "Pkg.rm(\"IJulia\")\n",
    "~~~\n",
    "\n",
    "Next, download & run the following file to install a new version of python:\n",
    "\n",
    "  * OSX:\n",
    "https://3230d63b5fc54e62148e-c95ac804525aac4b6dba79b00b39d1d3.ssl.cf1.rackcdn.com/Anaconda-2.3.0-MacOSX-x86_64.pkg\n",
    "\n",
    "Choose the **Modify PATH** option in the installer. This will make the new python the default on the system.\n",
    "\n",
    "Once the installer completes, install Jupyter using\n",
    "~~~\n",
    "$ conda install jupyter\n",
    "~~~\n",
    "\n",
    "and test that it works with the standard python kernel using\n",
    "~~~\n",
    "$ jupyter notebook\n",
    "~~~\n",
    "\n",
    "Now follow again the steps in the *Default installation* section above."
   ]
  },
  {
   "cell_type": "markdown",
   "metadata": {
    "collapsed": true
   },
   "source": [
    "### Installing the ROOT bindings"
   ]
  },
  {
   "cell_type": "markdown",
   "metadata": {},
   "source": [
    "To install the ROOT bindings, first make sure that ROOT v6 is set up and accessible from the terminal. Open a new terminal and run\n",
    "~~~\n",
    "$ root-config --version\n",
    "6.02/05\n",
    "~~~\n",
    "\n",
    "If `root-config` is not found, download and install ROOT from\n",
    "  * OSX: https://root.cern.ch/download/root_v6.05.02.macosx64-10.10-clang61.dmg\n",
    "  \n",
    "Afterwards, add ROOT to your `~/.bash_profile` to initialize it when you start a terminal:\n",
    "\n",
    "~~~\n",
    "$ echo \"export PATH=/Applications/root_v6.05.02/bin/thisroot.sh:\\$PATH\" >> ~/.bash_profile\n",
    "~~~\n",
    "\n",
    "Now run the julia terminal and install ROOT.jl. This package is currently not in the official repository, you can install it using\n",
    "\n",
    "~~~\n",
    "julia> Pkg.clone(\"https://github.com/jpata/ROOT.jl.git\")\n",
    "julia> Pkg.build(\"ROOT\")\n",
    "~~~\n",
    "\n",
    "This will compile a **special version of the julia executable that is ROOT-enabled**. If the compilation was successful, you should see\n",
    "~~~\n",
    "julia> Pkg.build(\"ROOT\")\n",
    "...\n",
    "ROOT.jl compiled!\n",
    "Add the following to your ~/.bashrc or ~/.bash_profile:\n",
    "alias rjulia=\"/Users/$USER/.julia/v0.4/ROOT/julia\"\n",
    "~~~\n",
    "You can add the `alias` command to your `~/.bash_profile` as a shortcut.\n",
    "\n",
    "Now you are ready to run julia with ROOT and do a self-test of the package.\n",
    "\n",
    "~~~\n",
    "$ /Users/$USER/.julia/v0.4/ROOT/julia\n",
    "julia> Pkg.test(\"ROOT\")\n",
    "...\n",
    "INFO: ROOT tests passed\n",
    "~~~\n",
    "\n",
    "**rjulia should be your default julia executable from now on!**\n",
    "\n",
    "\n",
    "#### Important: Notebook with ROOT\n",
    "If you want to use the IJulia notebook with ROOT, you must re-compile also the notebook.\n",
    "\n",
    "~~~\n",
    "$ /Users/joosep/.julia/v0.4/ROOT/julia\n",
    "julia> Pkg.build(\"IJulia\")\n",
    "julia> using IJulia\n",
    "julia> notebook()\n",
    "~~~\n",
    "Now the notebook will be ROOT-enabled."
   ]
  },
  {
   "cell_type": "markdown",
   "metadata": {},
   "source": [
    "### Adding additional ROOT helpers."
   ]
  },
  {
   "cell_type": "markdown",
   "metadata": {},
   "source": [
    "Some analysis tasks can be simplified by using helper libraries on top of root.\n",
    "\n",
    "In particular, the handling of histograms and data tables (trees) can be simplified using the following libraries, which are further explained below.\n",
    "~~~\n",
    "julia> Pkg.clone(\"https://github.com/jpata/ROOTHistograms.jl.git\")\n",
    "julia> Pkg.clone(\"https://github.com/jpata/Histograms.jl.git\")\n",
    "julia> Pkg.clone(\"https://github.com/jpata/ROOTDataFrames.jl.git\")\n",
    "julia> Pkg.clone(\"https://github.com/jpata/HEP.jl.git\")\n",
    "~~~"
   ]
  },
  {
   "cell_type": "markdown",
   "metadata": {},
   "source": [
    "## Using ROOT"
   ]
  },
  {
   "cell_type": "markdown",
   "metadata": {},
   "source": [
    "Below are some examples on using ROOT from julia in the notebook."
   ]
  },
  {
   "cell_type": "markdown",
   "metadata": {},
   "source": [
    "### Histograms"
   ]
  },
  {
   "cell_type": "markdown",
   "metadata": {},
   "source": [
    "First, install a statistical package with various statistical distributions:\n",
    "~~~\n",
    "julia> Pkg.add(\"Distributions\")\n",
    "~~~"
   ]
  },
  {
   "cell_type": "code",
   "execution_count": 87,
   "metadata": {
    "collapsed": false
   },
   "outputs": [],
   "source": [
    "using ROOT, Distributions\n",
    "f = TFile(\"out.root\", \"RECREATE\")\n",
    "h = TH1D(\"hist1\", \"My histogram\", 20, -5.0, 5.0)\n",
    "\n",
    "#Make a symbolic normal distribution with mean 0.2, sigma 0.5\n",
    "norm = Normal(0.2, 0.5)\n",
    "for i=1:1000\n",
    "    value = rand(norm) #sample from our distribution\n",
    "    Fill(h, value)\n",
    "end\n",
    "\n",
    "#if we convert the histogram to julia here,\n",
    "#it will still be available after the TFile is closed.\n",
    "#The ROOT histogram (h) will be invalid.\n",
    "jh = from_root(h)\n",
    "\n",
    "\n",
    "#Now we manually get all the bin contents into an array\n",
    "\n",
    "#make an empty vector\n",
    "bins = zeros(GetNbinsX(h))\n",
    "\n",
    "#loop over all histogram bins\n",
    "for ibin=1:GetNbinsX(h)\n",
    "    #get the bin data. Note that GetBinContent wants an Int32 as the bin index\n",
    "    # and indexing in 1-based\n",
    "    bins[ibin] = GetBinContent(h, Int32(ibin))\n",
    "end\n",
    "\n",
    "#lets also save the histogram to a file for inspection\n",
    "Write(f)\n",
    "Close(f)"
   ]
  },
  {
   "cell_type": "markdown",
   "metadata": {},
   "source": [
    "Now we plot the histogram using PyPlot.plot, which draws a set of (x,y) points connected with a line. We could take the x points from the histogram itself, but as we know that they are equidistant, we just make a new linear space for this.\n",
    "Note that here we show how the plotting works from a very low level: just drawing x,y point pairs using PyPlot.plot. In general, one can develop more specialized methods for data structures, like `ErrorHistogram`."
   ]
  },
  {
   "cell_type": "code",
   "execution_count": 88,
   "metadata": {
    "collapsed": false
   },
   "outputs": [
    {
     "data": {
      "image/png": "[encoded data removed]",
      "text/plain": [
       "PyPlot.Figure(PyObject <matplotlib.figure.Figure object at 0x325874dd0>)"
      ]
     },
     "metadata": {},
     "output_type": "display_data"
    }
   ],
   "source": [
    "PyPlot.figure(figsize=(3,3))\n",
    "#specify x manually using linspace, y taken from bin values\n",
    "xs = linspace(-5.0, 5.0, 20)\n",
    "PyPlot.plot(xs, bins);"
   ]
  },
  {
   "cell_type": "markdown",
   "metadata": {},
   "source": [
    "Below is an example on using julia histograms. Note that they are somewhat more low-level than their ROOT counterparts. Namely, they contain only the minimal information: bin contents, errors and edges. No visualization info or other \"state\" is stored in a histogram. This is by design, to make them both lightweight and easy to manipulate."
   ]
  },
  {
   "cell_type": "code",
   "execution_count": 89,
   "metadata": {
    "collapsed": true
   },
   "outputs": [],
   "source": [
    "using ROOT, ROOTHistograms, StatsBase, Histograms"
   ]
  },
  {
   "cell_type": "code",
   "execution_count": 90,
   "metadata": {
    "collapsed": false
   },
   "outputs": [
    {
     "name": "stderr",
     "output_type": "stream",
     "text": [
      "Warning in <TROOT::Append>: Replacing existing TH1: h (Potential memory leak).\n"
     ]
    }
   ],
   "source": [
    "h = TH1D(\"h\", \"hist\", 5, -2.0, 2.0)\n",
    "for i=1:100000\n",
    "    Fill(h, rand())\n",
    "end"
   ]
  },
  {
   "cell_type": "markdown",
   "metadata": {},
   "source": [
    "Now we create a proper julia ErrorHistogram from the ROOT object. The julia histograms contain only data - they are essentially wrappers around matrices. However, they are designed to integrate into the rest of the julia packages. Also, they behave exactly as variables should - no reference to a global \"directory\"."
   ]
  },
  {
   "cell_type": "code",
   "execution_count": 91,
   "metadata": {
    "collapsed": false
   },
   "outputs": [
    {
     "data": {
      "text/plain": [
       "Histograms.ErrorHistogram{Float64,1,Tuple{Array{Float64,1}}}\n",
       "edges:\n",
       "  [-Inf,-2.0,-1.2,-0.3999999999999999,0.40000000000000036,1.2000000000000002,2.0,Inf]\n",
       "weights: [0.0,0.0,0.0,40036.0,59964.0,0.0,0.0]\n",
       "closed: left"
      ]
     },
     "execution_count": 91,
     "metadata": {},
     "output_type": "execute_result"
    }
   ],
   "source": [
    "jh2 = from_root(h)"
   ]
  },
  {
   "cell_type": "markdown",
   "metadata": {},
   "source": [
    "Inspect the dimensionality of the histogram:"
   ]
  },
  {
   "cell_type": "code",
   "execution_count": 92,
   "metadata": {
    "collapsed": false
   },
   "outputs": [
    {
     "data": {
      "text/plain": [
       "1"
      ]
     },
     "execution_count": 92,
     "metadata": {},
     "output_type": "execute_result"
    }
   ],
   "source": [
    "ndims(jh2)"
   ]
  },
  {
   "cell_type": "code",
   "execution_count": 93,
   "metadata": {
    "collapsed": false
   },
   "outputs": [
    {
     "data": {
      "text/plain": [
       "(22,)"
      ]
     },
     "execution_count": 93,
     "metadata": {},
     "output_type": "execute_result"
    }
   ],
   "source": [
    "nbins(jh) #get the number of bins."
   ]
  },
  {
   "cell_type": "markdown",
   "metadata": {},
   "source": [
    "A histogram is filled using the `push!` function. The ! carries no syntactical meaning, but is conventionally added to functions which modify their arguments."
   ]
  },
  {
   "cell_type": "code",
   "execution_count": 94,
   "metadata": {
    "collapsed": true
   },
   "outputs": [],
   "source": [
    "for i=1:100\n",
    "    value = rand()\n",
    "    w = 0.5\n",
    "    push!(julia_hist, value, w)\n",
    "end"
   ]
  },
  {
   "cell_type": "markdown",
   "metadata": {},
   "source": [
    "Once we're done with a julia histogram, we can covnert it back to ROOT."
   ]
  },
  {
   "cell_type": "code",
   "execution_count": 95,
   "metadata": {
    "collapsed": false
   },
   "outputs": [
    {
     "data": {
      "text/plain": [
       "ROOT.TH1D(Ptr{Void} @0x00007fcfe99d1210)"
      ]
     },
     "execution_count": 95,
     "metadata": {},
     "output_type": "execute_result"
    }
   ],
   "source": [
    "root_hist = to_root(julia_hist, \"histname\")"
   ]
  },
  {
   "cell_type": "markdown",
   "metadata": {},
   "source": [
    "### Plotting histograms "
   ]
  },
  {
   "cell_type": "markdown",
   "metadata": {},
   "source": [
    "In the previous examples, we plotted histograms using a very simple pyplot command. Here are a few more elaborate examples.\n",
    "\n",
    "**Unlike in ROOT, no ready-made plotting command for generic histograms is provided. Instead, the user can rely on the full pyplot library, which allows a lot of fine tuning in plots.**\n",
    "\n",
    "See the full matplotlib gallery here: http://matplotlib.org/gallery.html"
   ]
  },
  {
   "cell_type": "code",
   "execution_count": 96,
   "metadata": {
    "collapsed": false
   },
   "outputs": [
    {
     "data": {
      "text/plain": [
       "errorbar (generic function with 3 methods)"
      ]
     },
     "execution_count": 96,
     "metadata": {},
     "output_type": "execute_result"
    }
   ],
   "source": [
    "#we can overload the default plot method\n",
    "import PyPlot.bar\n",
    "function bar{T <: Any,M <: Any}(h::ErrorHistogram{T,1,M}; kwargs...)\n",
    "    es = edges(h)[1]\n",
    "    cs = contents(h)\n",
    "    PyPlot.bar(es[1:end-1], cs, width=diff(es); kwargs...)\n",
    "end\n",
    "\n",
    "import PyPlot.plot\n",
    "function plot{T <: Any,M <: Any}(h::ErrorHistogram{T,1,M}; kwargs...)\n",
    "    es = edges(h)[1]\n",
    "    cs = contents(h)\n",
    "    PyPlot.plot(Base.midpoints(es), cs; kwargs...)\n",
    "end\n",
    "\n",
    "import PyPlot.errorbar\n",
    "function errorbar{T <: Any,M <: Any}(h::ErrorHistogram{T,1,M}; kwargs...)\n",
    "    es = edges(h)[1]\n",
    "    cs = contents(h)\n",
    "    errs = errors(h)\n",
    "    PyPlot.errorbar(Base.midpoints(es), cs, errs; kwargs...)\n",
    "end"
   ]
  },
  {
   "cell_type": "markdown",
   "metadata": {},
   "source": [
    "Note that these functions are also defined in ROOTHistograms.jl, we show them here for clarity. In general, you should customize them to your needs."
   ]
  },
  {
   "cell_type": "markdown",
   "metadata": {},
   "source": [
    "#### Histogram just as data points."
   ]
  },
  {
   "cell_type": "code",
   "execution_count": 97,
   "metadata": {
    "collapsed": false
   },
   "outputs": [
    {
     "data": {
      "image/png": "[encoded data removed]",
      "text/plain": [
       "PyPlot.Figure(PyObject <matplotlib.figure.Figure object at 0x325f15f90>)"
      ]
     },
     "metadata": {},
     "output_type": "display_data"
    },
    {
     "data": {
      "text/plain": [
       "PyObject <matplotlib.legend.Legend object at 0x326015d10>"
      ]
     },
     "execution_count": 97,
     "metadata": {},
     "output_type": "execute_result"
    }
   ],
   "source": [
    "figure(figsize=(4,4))\n",
    "plot(jh; linewidth=0, color=\"red\", marker=\"o\", label=\"hist\");\n",
    "legend(loc=\"best\", numpoints=1, frameon=true)"
   ]
  },
  {
   "cell_type": "markdown",
   "metadata": {},
   "source": [
    "#### Histogram with markers and errorbars."
   ]
  },
  {
   "cell_type": "code",
   "execution_count": 98,
   "metadata": {
    "collapsed": false
   },
   "outputs": [
    {
     "data": {
      "image/png": "[encoded data removed]",
      "text/plain": [
       "PyPlot.Figure(PyObject <matplotlib.figure.Figure object at 0x325a40e10>)"
      ]
     },
     "metadata": {},
     "output_type": "display_data"
    },
    {
     "data": {
      "text/plain": [
       "PyObject <matplotlib.legend.Legend object at 0x32615fb50>"
      ]
     },
     "execution_count": 98,
     "metadata": {},
     "output_type": "execute_result"
    }
   ],
   "source": [
    "figure(figsize=(4,4))\n",
    "errorbar(jh; linewidth=0, elinewidth=1, color=\"black\", marker=\"o\", label=\"data\");\n",
    "legend(loc=\"best\", numpoints=1, frameon=true)"
   ]
  },
  {
   "cell_type": "markdown",
   "metadata": {},
   "source": [
    "#### A filled histogram."
   ]
  },
  {
   "cell_type": "code",
   "execution_count": 99,
   "metadata": {
    "collapsed": false
   },
   "outputs": [
    {
     "data": {
      "image/png": "[encoded data removed]",
      "text/plain": [
       "PyPlot.Figure(PyObject <matplotlib.figure.Figure object at 0x325a09ad0>)"
      ]
     },
     "metadata": {},
     "output_type": "display_data"
    },
    {
     "data": {
      "text/plain": [
       "PyObject <matplotlib.legend.Legend object at 0x3262b5390>"
      ]
     },
     "execution_count": 99,
     "metadata": {},
     "output_type": "execute_result"
    }
   ],
   "source": [
    "figure(figsize=(4,4))\n",
    "bar(jh; linewidth=0, color=\"gray\", label=\"bkg\");\n",
    "legend(loc=\"best\", frameon=true)"
   ]
  },
  {
   "cell_type": "markdown",
   "metadata": {},
   "source": [
    "### Reading from ROOT files"
   ]
  },
  {
   "cell_type": "markdown",
   "metadata": {},
   "source": [
    "We can also load the histogram from the file."
   ]
  },
  {
   "cell_type": "code",
   "execution_count": 100,
   "metadata": {
    "collapsed": false
   },
   "outputs": [],
   "source": [
    "f = TFile(\"out.root\")\n",
    "\n",
    "#we have to manually tell ROOT that the object `hist1` is a TH1D\n",
    "h = root_cast(TH1D, Get(f, \"hist1\"))\n",
    "\n",
    "#lets make a helper function to get the bin data\n",
    "function getbins(h::TH1D)\n",
    "    bins = zeros(GetNbinsX(h))\n",
    "\n",
    "    #loop over all histogram bins\n",
    "    for ibin=1:GetNbinsX(h)\n",
    "        bins[ibin] = GetBinContent(h, ibin)\n",
    "    end\n",
    "    return bins\n",
    "end\n",
    "\n",
    "#Another one for 2d histograms\n",
    "function getbins(h::TH2D)\n",
    "    bins = zeros(GetNbinsX(h), GetNbinsY(h))\n",
    "\n",
    "    #loop over all histogram bins\n",
    "    for ibin=1:GetNbinsX(h)\n",
    "        for jbin=1:GetNbinsY(h)\n",
    "            bins[ibin, jbin] = GetBinContent(h, ibin, jbin)\n",
    "        end\n",
    "    end\n",
    "    return bins\n",
    "end\n",
    "\n",
    "bins2 = getbins(h);"
   ]
  },
  {
   "cell_type": "markdown",
   "metadata": {
    "collapsed": true
   },
   "source": [
    "Now we plot the histogram bins before and after saving it to the ROOT file."
   ]
  },
  {
   "cell_type": "code",
   "execution_count": 101,
   "metadata": {
    "collapsed": false
   },
   "outputs": [
    {
     "data": {
      "image/png": "[encoded data removed]",
      "text/plain": [
       "PyPlot.Figure(PyObject <matplotlib.figure.Figure object at 0x326041c50>)"
      ]
     },
     "metadata": {},
     "output_type": "display_data"
    }
   ],
   "source": [
    "PyPlot.figure(figsize=(6,3))\n",
    "\n",
    "PyPlot.subplot(1,2,1)\n",
    "PyPlot.plot(xs, bins)\n",
    "PyPlot.title(\"original\")\n",
    "\n",
    "PyPlot.subplot(1,2,2)\n",
    "PyPlot.plot(xs, bins2);\n",
    "PyPlot.title(\"from TFile\")\n",
    "\n",
    "PyPlot.tight_layout()"
   ]
  },
  {
   "cell_type": "markdown",
   "metadata": {},
   "source": [
    "### Example of unfolding"
   ]
  },
  {
   "cell_type": "markdown",
   "metadata": {},
   "source": [
    "This is based on the TSVDUnfold documentation: https://root.cern.ch/doc/master/classTSVDUnfold.html#a486a8a201a22408eea5337a2c98f3f1c\n",
    "\n",
    "First, we define the input distributions:"
   ]
  },
  {
   "cell_type": "code",
   "execution_count": 102,
   "metadata": {
    "collapsed": false
   },
   "outputs": [
    {
     "data": {
      "text/plain": [
       "ROOT.TH2D(Ptr{Void} @0x00007fcfe96cf1b0)"
      ]
     },
     "execution_count": 102,
     "metadata": {},
     "output_type": "execute_result"
    }
   ],
   "source": [
    "nb = 2\n",
    "xini = TH1D(\"true\", \"True distribution\", nb, 0.0, 1.0)\n",
    "bini = TH1D(\"reco\", \"Reco distribution\", nb, 0.0, 1.0)\n",
    "bdat = TH1D(\"data\", \"Measured distribution\", nb, 0.0, 1.0)\n",
    "\n",
    "covm = TH2D(\"cov\", \"Covariance matrix\", nb, 0.0, 1.0, nb, 0.0, 1.0)\n",
    "\n",
    "Adet = TH2D(\"transfer\", \"Transfer matrix\", nb, 0.0, 1.0, nb, 0.0, 1.0)"
   ]
  },
  {
   "cell_type": "markdown",
   "metadata": {},
   "source": [
    "Now, we set their contents. We do this very explicitly. In ROOTHistograms.jl, there are methods to create ROOT TH1D/TH2D from arrays."
   ]
  },
  {
   "cell_type": "code",
   "execution_count": 103,
   "metadata": {
    "collapsed": false
   },
   "outputs": [],
   "source": [
    "SetBinContent(xini, 1, 10.0)\n",
    "SetBinContent(xini, 1, 15.0)\n",
    "\n",
    "SetBinContent(bini, 1, 2.0)\n",
    "SetBinContent(bini, 1, 7.0)\n",
    "\n",
    "SetBinContent(Adet, 1, 1, 0.8)\n",
    "SetBinContent(Adet, 1, 2, 0.2)\n",
    "SetBinContent(Adet, 2, 1, 0.15)\n",
    "SetBinContent(Adet, 2, 2, 0.85)\n",
    "\n",
    "SetBinContent(covm, 1, 1, 1.0)\n",
    "SetBinContent(covm, 1, 2, 0.0)\n",
    "SetBinContent(covm, 2, 1, 0.0)\n",
    "SetBinContent(covm, 2, 2, 1.0)\n",
    "\n",
    "SetBinContent(bdat, 1, 2.3)\n",
    "SetBinContent(bdat, 1, 6.5)"
   ]
  },
  {
   "cell_type": "markdown",
   "metadata": {},
   "source": [
    "One can use these two functions for larger histograms."
   ]
  },
  {
   "cell_type": "code",
   "execution_count": 104,
   "metadata": {
    "collapsed": false
   },
   "outputs": [],
   "source": [
    "function setbins!(h::TH1D, v)\n",
    "    assert(GetNbinsX(h) == length(v))\n",
    "    for i=1:length(v)\n",
    "        SetBinContent(h, i, Float64(v[i]))\n",
    "    end\n",
    "end\n",
    "\n",
    "function setbins!(h::TH2D, v)\n",
    "    assert(GetNbinsX(h) == size(v, 1))\n",
    "    assert(GetNbinsX(h) == size(v, 2))\n",
    "    for i=1:size(v, 1)\n",
    "        for j=1:size(v, 1)\n",
    "            SetBinContent(h, i, j, Float64(v[i,j]))\n",
    "        end\n",
    "    end\n",
    "end;"
   ]
  },
  {
   "cell_type": "code",
   "execution_count": 105,
   "metadata": {
    "collapsed": false
   },
   "outputs": [],
   "source": [
    "hbig = TH2D(\"hbig\", \"Big histogram\", 100, -3.0, 3.0, 100, 2.0, 5.0)\n",
    "\n",
    "#fill with 100x100 random numbers\n",
    "setbins!(hbig, rand(100,100))"
   ]
  },
  {
   "cell_type": "code",
   "execution_count": 106,
   "metadata": {
    "collapsed": false
   },
   "outputs": [
    {
     "data": {
      "image/png": "[encoded data removed]",
      "text/plain": [
       "PyPlot.Figure(PyObject <matplotlib.figure.Figure object at 0x3265a68d0>)"
      ]
     },
     "metadata": {},
     "output_type": "display_data"
    },
    {
     "data": {
      "text/plain": [
       "PyObject <matplotlib.colorbar.Colorbar instance at 0x32660c290>"
      ]
     },
     "execution_count": 106,
     "metadata": {},
     "output_type": "execute_result"
    }
   ],
   "source": [
    "PyPlot.figure(figsize=(3,3))\n",
    "PyPlot.imshow(getbins(hbig))\n",
    "PyPlot.colorbar()"
   ]
  },
  {
   "cell_type": "markdown",
   "metadata": {},
   "source": [
    "We create the TSVDUnfold object."
   ]
  },
  {
   "cell_type": "code",
   "execution_count": 107,
   "metadata": {
    "collapsed": false
   },
   "outputs": [
    {
     "data": {
      "text/plain": [
       "ROOT.TSVDUnfold(Ptr{Void} @0x00007fcfe9b4ed30)"
      ]
     },
     "execution_count": 107,
     "metadata": {},
     "output_type": "execute_result"
    }
   ],
   "source": [
    "svd = TSVDUnfold(\n",
    "    bdat,\n",
    "    covm,\n",
    "    bini,\n",
    "    xini,\n",
    "    Adet\n",
    ")"
   ]
  },
  {
   "cell_type": "markdown",
   "metadata": {},
   "source": [
    "We can run the unfolding and use all the methods defined for TSVDUnfold. Here we also demonstrate the `@show x` macro, which will print the name of the variable along with the value.\n",
    "\n",
    "**Note**: as the input data is not tuned to be a reasonable unfolding situation, the unfolding algo currently gives some warnings."
   ]
  },
  {
   "cell_type": "code",
   "execution_count": 108,
   "metadata": {
    "collapsed": false
   },
   "outputs": [
    {
     "name": "stderr",
     "output_type": "stream",
     "text": [
      "Info in <TSVDUnfold::Unfold>: Unfolding param: 2\n",
      "Info in <TSVDUnfold::Unfold>: Curvature of weight distribution: 49.999500\n"
     ]
    },
    {
     "name": "stdout",
     "output_type": "stream",
     "text": [
      "hunf = ROOT.TH1D(Ptr{Void} @0x00007fcfe9c92e90)"
     ]
    }
   ],
   "source": [
    "hunf = Unfold(svd, 2)\n",
    "@show(hunf)\n",
    "\n",
    "unf_covm = GetUnfoldCovMatrix(svd, covm, 100)\n",
    "@show(unf_covm)\n",
    "\n",
    "kreg = GetKReg(svd)\n",
    "@show(kreg)\n",
    "\n",
    "D = GetD(svd)\n",
    "@show(D)\n",
    "\n",
    "SV = GetSV(svd)\n",
    "@show(SV)\n",
    "\n",
    "Xtau = GetXtau(svd)\n",
    "@show(Xtau)\n",
    "\n",
    "Xinv = GetXinv(svd)\n",
    "@show(Xinv)\n",
    "\n",
    "BCov = GetBCov(svd)\n",
    "@show(BCov)\n",
    "\n",
    "chi2 = ComputeChiSquared(svd, xini, hunf)\n",
    "@show(chi2);"
   ]
  },
  {
   "cell_type": "markdown",
   "metadata": {},
   "source": [
    "## Julia peculiarities"
   ]
  },
  {
   "cell_type": "markdown",
   "metadata": {},
   "source": [
    "In this section, some of the properties of julia that are sufficiently different from Python or C to be non-obivous will be described."
   ]
  },
  {
   "cell_type": "markdown",
   "metadata": {},
   "source": [
    "### 1. String manipulation"
   ]
  },
  {
   "cell_type": "markdown",
   "metadata": {},
   "source": [
    "To concatenate (\"add\") two strings of characters, use the `*` operator, **not** `+`:"
   ]
  },
  {
   "cell_type": "code",
   "execution_count": 109,
   "metadata": {
    "collapsed": false
   },
   "outputs": [
    {
     "data": {
      "text/plain": [
       "\"CMS Preliminary simulation\""
      ]
     },
     "execution_count": 109,
     "metadata": {},
     "output_type": "execute_result"
    }
   ],
   "source": [
    "\"CMS Preliminary\"*\" simulation\""
   ]
  },
  {
   "cell_type": "markdown",
   "metadata": {},
   "source": [
    "Variables can be easily inserted into strings."
   ]
  },
  {
   "cell_type": "code",
   "execution_count": 110,
   "metadata": {
    "collapsed": false
   },
   "outputs": [
    {
     "data": {
      "text/plain": [
       "\"13 TeV\""
      ]
     },
     "execution_count": 110,
     "metadata": {},
     "output_type": "execute_result"
    }
   ],
   "source": [
    "s = 13\n",
    "\"$s TeV\""
   ]
  },
  {
   "cell_type": "markdown",
   "metadata": {},
   "source": [
    "Also, more complex code can be interpolated. "
   ]
  },
  {
   "cell_type": "code",
   "execution_count": 111,
   "metadata": {
    "collapsed": false
   },
   "outputs": [
    {
     "data": {
      "text/plain": [
       "\"sin(2/3 pi) = 0.87\""
      ]
     },
     "execution_count": 111,
     "metadata": {},
     "output_type": "execute_result"
    }
   ],
   "source": [
    "s = sin(2/3*pi)\n",
    "string(\"sin(2/3 pi) = $(round(s,2))\")"
   ]
  },
  {
   "cell_type": "markdown",
   "metadata": {},
   "source": [
    "C-style format strings are possible with the special `@sprintf` macro."
   ]
  },
  {
   "cell_type": "code",
   "execution_count": 112,
   "metadata": {
    "collapsed": false
   },
   "outputs": [
    {
     "data": {
      "text/plain": [
       "\"a=0.01 b=3 s=xyz\""
      ]
     },
     "execution_count": 112,
     "metadata": {},
     "output_type": "execute_result"
    }
   ],
   "source": [
    "s = @sprintf(\"a=%.2f b=%d s=%s\", 0.0123, 3, \"xyz\");\n",
    "s"
   ]
  },
  {
   "cell_type": "markdown",
   "metadata": {},
   "source": [
    "## Troubleshooting"
   ]
  },
  {
   "cell_type": "markdown",
   "metadata": {},
   "source": [
    "Here we list some of the more common error messages in julia which are not obious to understand when coming from other languages."
   ]
  },
  {
   "cell_type": "markdown",
   "metadata": {},
   "source": [
    "#### 1. `convert` has no matching method\n",
    "This error happens when the constructor arguments for a type are wrong."
   ]
  },
  {
   "cell_type": "code",
   "execution_count": 113,
   "metadata": {
    "collapsed": false
   },
   "outputs": [],
   "source": [
    "type Jet\n",
    "    pt::Float64\n",
    "    eta::Float64\n",
    "end"
   ]
  },
  {
   "cell_type": "code",
   "execution_count": 114,
   "metadata": {
    "collapsed": false
   },
   "outputs": [
    {
     "data": {
      "text/plain": [
       "Jet(300.0,2.3)"
      ]
     },
     "execution_count": 114,
     "metadata": {},
     "output_type": "execute_result"
    }
   ],
   "source": [
    "good = Jet(300.0, 2.3)"
   ]
  },
  {
   "cell_type": "markdown",
   "metadata": {},
   "source": [
    "Now, if we use the wrong argument types (string instead of number)"
   ]
  },
  {
   "cell_type": "code",
   "execution_count": 115,
   "metadata": {
    "collapsed": false
   },
   "outputs": [
    {
     "ename": "LoadError",
     "evalue": "LoadError: MethodError: `convert` has no method matching convert(::Type{Float64}, ::ASCIIString)\nThis may have arisen from a call to the constructor Float64(...),\nsince type constructors fall back to convert methods.\nClosest candidates are:\n  call{T}(::Type{T}, ::Any)\n  convert(::Type{Float64}, !Matched::Int8)\n  convert(::Type{Float64}, !Matched::Int16)\n  ...\nwhile loading In[115], in expression starting on line 1",
     "output_type": "error",
     "traceback": [
      "LoadError: MethodError: `convert` has no method matching convert(::Type{Float64}, ::ASCIIString)\nThis may have arisen from a call to the constructor Float64(...),\nsince type constructors fall back to convert methods.\nClosest candidates are:\n  call{T}(::Type{T}, ::Any)\n  convert(::Type{Float64}, !Matched::Int8)\n  convert(::Type{Float64}, !Matched::Int16)\n  ...\nwhile loading In[115], in expression starting on line 1",
      "",
      " in call at In[113]:2"
     ]
    }
   ],
   "source": [
    "bad = Jet(\"300.0\", 2.5)"
   ]
  },
  {
   "cell_type": "markdown",
   "metadata": {},
   "source": [
    "We see that the compiler does not know how to convert a string to a float for the first argument. We could do it with"
   ]
  },
  {
   "cell_type": "code",
   "execution_count": 116,
   "metadata": {
    "collapsed": false
   },
   "outputs": [
    {
     "data": {
      "text/plain": [
       "Jet(300.0,2.5)"
      ]
     },
     "execution_count": 116,
     "metadata": {},
     "output_type": "execute_result"
    },
    {
     "name": "stdout",
     "output_type": "stream",
     "text": [
      "\n",
      "unf_covm = ROOT.TH2D(Ptr{Void} @0x00007fcfe96f64b0)\n",
      "kreg = 2\n",
      "D = ROOT.TH1D(Ptr{Void} @0x00007fcfe9c8e1b0)\n",
      "SV = ROOT.TH1D(Ptr{Void} @0x00007fcfe9c8e580)\n",
      "Xtau = ROOT.TH2D(Ptr{Void} @0x00007fcfe9c8e950)\n",
      "Xinv = ROOT.TH2D(Ptr{Void} @0x00007fcfe9c92aa0)\n",
      "BCov = ROOT.TH2D(Ptr{Void} @0x00007fcfe96c94a0)\n",
      "chi2 = 15.744726562072925\n"
     ]
    }
   ],
   "source": [
    "good = Jet(parse(Float64, \"300.0\"), 2.5)"
   ]
  },
  {
   "cell_type": "markdown",
   "metadata": {},
   "source": [
    "Similarly,  you try to create a TH1D with arguments corresponding to a TH2D, you will see"
   ]
  },
  {
   "cell_type": "code",
   "execution_count": 117,
   "metadata": {
    "collapsed": false
   },
   "outputs": [
    {
     "ename": "LoadError",
     "evalue": "LoadError: MethodError: `convert` has no method matching convert(::Type{ROOT.TH1D}, ::ASCIIString, ::ASCIIString, ::Int64, ::Float64, ::Float64, ::Int64, ::Float64, ::Float64)\nThis may have arisen from a call to the constructor ROOT.TH1D(...),\nsince type constructors fall back to convert methods.\nClosest candidates are:\n  ROOT.TH1D(::ASCIIString, ::ASCIIString, ::Integer, ::Float64, ::Float64)\n  ROOT.TH1D(::ASCIIString, ::ASCIIString, ::Integer, !Matched::Ptr{Float32})\n  ROOT.TH1D(::ASCIIString, ::ASCIIString, ::Integer, !Matched::Ptr{Float64})\n  ...\nwhile loading In[117], in expression starting on line 2",
     "output_type": "error",
     "traceback": [
      "LoadError: MethodError: `convert` has no method matching convert(::Type{ROOT.TH1D}, ::ASCIIString, ::ASCIIString, ::Int64, ::Float64, ::Float64, ::Int64, ::Float64, ::Float64)\nThis may have arisen from a call to the constructor ROOT.TH1D(...),\nsince type constructors fall back to convert methods.\nClosest candidates are:\n  ROOT.TH1D(::ASCIIString, ::ASCIIString, ::Integer, ::Float64, ::Float64)\n  ROOT.TH1D(::ASCIIString, ::ASCIIString, ::Integer, !Matched::Ptr{Float32})\n  ROOT.TH1D(::ASCIIString, ::ASCIIString, ::Integer, !Matched::Ptr{Float64})\n  ...\nwhile loading In[117], in expression starting on line 2",
      ""
     ]
    }
   ],
   "source": [
    "#the last 3 arguments are superfluous\n",
    "covm = TH1D(\"cov\", \"Covariance matrix\", nb, 0.0, 1.0, nb, 0.0, 1.0)"
   ]
  },
  {
   "cell_type": "markdown",
   "metadata": {},
   "source": [
    "Here the compiler suggest you the correct constructor forms and also points out which arguments were incorrect: **!Matched{X}** means your type for the n-th argument is not compatible with `X`.\n",
    "The compiler cannot guess that the argument signature corresponds to TH2D instead of TH1D, you must figure this out yourself."
   ]
  },
  {
   "cell_type": "markdown",
   "metadata": {},
   "source": [
    "### 2. type redefinition"
   ]
  },
  {
   "cell_type": "markdown",
   "metadata": {},
   "source": [
    "If you define a type in the interactive environment:"
   ]
  },
  {
   "cell_type": "code",
   "execution_count": 118,
   "metadata": {
    "collapsed": true
   },
   "outputs": [],
   "source": [
    "type Lepton\n",
    "    x::Float64\n",
    "end"
   ]
  },
  {
   "cell_type": "markdown",
   "metadata": {},
   "source": [
    "and later find that you want to re-define it with some additional info, you will get an error:"
   ]
  },
  {
   "cell_type": "code",
   "execution_count": 119,
   "metadata": {
    "collapsed": false
   },
   "outputs": [
    {
     "ename": "LoadError",
     "evalue": "LoadError: invalid redefinition of constant Lepton\nwhile loading In[119], in expression starting on line 1",
     "output_type": "error",
     "traceback": [
      "LoadError: invalid redefinition of constant Lepton\nwhile loading In[119], in expression starting on line 1",
      ""
     ]
    }
   ],
   "source": [
    "type Lepton\n",
    "    x::Float64\n",
    "    y::Float64\n",
    "end"
   ]
  },
  {
   "cell_type": "markdown",
   "metadata": {},
   "source": [
    "This is to prevent you from messing with the data structures while they are being used, as then any functions already compiled for `Lepton` would be incorrect with the changed data type.\n",
    "To reload code at runtime, put it in a `module`."
   ]
  },
  {
   "cell_type": "code",
   "execution_count": 120,
   "metadata": {
    "collapsed": false
   },
   "outputs": [
    {
     "name": "stderr",
     "output_type": "stream",
     "text": [
      "WARNING: replacing module MyTypes\n"
     ]
    }
   ],
   "source": [
    "module MyTypes\n",
    "type Lepton\n",
    "    x::Float64\n",
    "end\n",
    "end\n",
    "using MyTypes"
   ]
  },
  {
   "cell_type": "markdown",
   "metadata": {},
   "source": [
    "Now you can re-define the module and import it again."
   ]
  },
  {
   "cell_type": "code",
   "execution_count": 121,
   "metadata": {
    "collapsed": false
   },
   "outputs": [
    {
     "name": "stderr",
     "output_type": "stream",
     "text": [
      "WARNING: replacing module MyTypes\n"
     ]
    }
   ],
   "source": [
    "module MyTypes\n",
    "type Lepton\n",
    "    x::Float64\n",
    "    y::Float64\n",
    "end\n",
    "end\n",
    "using MyTypes"
   ]
  },
  {
   "cell_type": "markdown",
   "metadata": {},
   "source": [
    "For more info about redefinitions, see http://julia.readthedocs.org/en/latest/manual/faq/#how-can-i-modify-the-declaration-of-a-type-immutable-in-my-session."
   ]
  },
  {
   "cell_type": "markdown",
   "metadata": {
    "collapsed": true
   },
   "source": [
    "### 3. Module BinDeps uuid did not match cache file"
   ]
  },
  {
   "cell_type": "markdown",
   "metadata": {},
   "source": [
    "When importing a package just after installing it, there are currently problems with precompilation, which happens when a package is imported the first time after installing it: https://github.com/JuliaLang/julia/issues/7977\n",
    "\n",
    "Thus, if you import a package in the same julia session where you just installed it, you might see\n",
    "\n",
    "~~~\n",
    "julia> Pkg.add(\"PyPlot\")\n",
    "...\n",
    "julia> using PyPlot\n",
    "\n",
    "INFO: Precompiling module PyPlot...\n",
    "INFO: Recompiling stale cache file /Users/joosep/testpacks/lib/v0.4/PyPlot.ji for module PyPlot.\n",
    "WARNING: Module BinDeps uuid did not match cache file\n",
    "ERROR: __precompile__(true) but require failed to create a precompiled cache file\n",
    " in require at /Applications/Julia-0.4.0-rc2.app/Contents/Resources/julia/lib/julia/sys.dylib\n",
    "~~~\n",
    "\n",
    "The fix is to restart julia and import the package again."
   ]
  },
  {
   "cell_type": "code",
   "execution_count": null,
   "metadata": {
    "collapsed": true
   },
   "outputs": [],
   "source": []
  }
 ],
 "metadata": {
  "kernelspec": {
   "display_name": "Julia 0.4.0-rc3",
   "language": "julia",
   "name": "julia-0.4"
  },
  "language_info": {
   "file_extension": ".jl",
   "mimetype": "application/julia",
   "name": "julia",
   "version": "0.4.0"
  }
 },
 "nbformat": 4,
 "nbformat_minor": 0
}
