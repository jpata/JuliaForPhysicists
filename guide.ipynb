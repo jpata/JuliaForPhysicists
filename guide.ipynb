{
 "cells": [
  {
   "cell_type": "markdown",
   "metadata": {},
   "source": [
    "## Introduction"
   ]
  },
  {
   "cell_type": "markdown",
   "metadata": {},
   "source": [
    "This guide is meant to help physicists get up and running with julia, the notebook system and the julia->ROOT interface.\n",
    "\n",
    "It is geared towards people with a bit of experience in bash, unix commands, C/C++ and Python.\n",
    "\n",
    "Currently, the instructions in this guide are OSX-centric, meant to install julia on a Macbook.\n",
    "\n",
    "The following blocks stand for code which you should execute\n",
    "~~~\n",
    "$ shell/bash commands\n",
    "julia> commands in the julia repl\n",
    "~~~\n",
    "\n"
   ]
  },
  {
   "cell_type": "markdown",
   "metadata": {},
   "source": [
    "## Getting the software"
   ]
  },
  {
   "cell_type": "markdown",
   "metadata": {},
   "source": [
    "The recommended way to install the core **julia** is to download the binaries from http://julialang.org/downloads. The latest version is currently **v0.4.0-rc2**. Take care not to download a *0.3* release, which is missing some features that the ROOT package relies on.\n",
    "\n",
    "On OSX, the installation is via a simple app which you can download from the link below and place under `/Applications`: https://s3.amazonaws.com/julialang/bin/osx/x64/0.4/julia-0.4.0-rc2-osx10.7+.dmg\n",
    "\n",
    "The julia terminal can be launched by double clicking the app. Note, however, that this is **not** the recommended way to use julia for work.\n",
    "Instead, let us make the julia executable accessible from every terminal by adding it to search path."
   ]
  },
  {
   "cell_type": "markdown",
   "metadata": {},
   "source": [
    "#### Adding julia to PATH"
   ]
  },
  {
   "cell_type": "markdown",
   "metadata": {},
   "source": [
    "We want to tell our system where to find julia, so that julia program could be run from the terminal simply with `julia prog.jl`.\n",
    "Run the julia application once and type into the prompt:\n",
    "\n",
    "~~~\n",
    "julia> JULIA_HOME\n",
    "/Applications/Julia-0.4.0-rc2.app/Contents/Resources/julia/bin\n",
    "~~~\n",
    "\n",
    "You should see the path to the julia executable. Now edit your `~/.bash_profile` and add\n",
    "\n",
    "~~~\n",
    "$ echo \"export PATH=/Applications/Julia-0.4.0-rc2.app/Contents/Resources/julia/bin:$PATH\" >> ~/.bash_profile\n",
    "~~~\n",
    "\n",
    "to the end of the file, taking care to change the julia path to what was actually printed for you."
   ]
  },
  {
   "cell_type": "markdown",
   "metadata": {},
   "source": [
    "### Running julia"
   ]
  },
  {
   "cell_type": "markdown",
   "metadata": {},
   "source": [
    "To run standard julia, you just need to open a terminal (Applications->Terminal) and type `julia`. You will then be in the REPL. You can disable the banner and version info by running `julia -q`.\n",
    "~~~\n",
    "$ julia\n",
    "               _\n",
    "   _       _ _(_)_     |  A fresh approach to technical computing\n",
    "  (_)     | (_) (_)    |  Documentation: http://docs.julialang.org\n",
    "   _ _   _| |_  __ _   |  Type \"?help\" for help.\n",
    "  | | | | | | |/ _` |  |\n",
    "  | | |_| | | | (_| |  |  Version 0.4.0-rc2 (2015-09-18 17:51 UTC)\n",
    " _/ |\\__'_|_|_|\\__'_|  |  Official http://julialang.org/ release\n",
    "|__/                   |  x86_64-apple-darwin13.4.0\n",
    "\n",
    "\n",
    "julia> exit()\n",
    "$ \n",
    "~~~\n",
    "\n",
    "Of course, any julia program, stored in a text file ending with `.jl`, can be run also in standalone mode\n",
    "~~~\n",
    "$ cat program.jl \n",
    "x = 0.3*pi\n",
    "println(\"sin($x) = \", sin(x))\n",
    "$ julia program.jl\n",
    "sin(0.9424777960769379) = 0.8090169943749475\n",
    "$\n",
    "~~~"
   ]
  },
  {
   "cell_type": "markdown",
   "metadata": {},
   "source": [
    "### Using the REPL"
   ]
  },
  {
   "cell_type": "markdown",
   "metadata": {},
   "source": [
    "The REPL, short for Read-Eval-Print Loop, is the standard way to interact with julia while testing out new ideas. It hosts the complete julia language in an interactive prompt. Commands you type in will be interpreted, compiled and executed. You will see the output immediately.\n",
    "\n",
    "Very briefly, the essentials of the REPL are:\n",
    "  * Exit the REPL by typing *Ctrl-D* on the keyboard or `exit()` to the julia prompt.\n",
    "  * *Up* and *Down* arrows navigate between the previous commands.\n",
    "  * *Tab* auto-completes your command using known julia expressions.\n",
    "  ~~~\n",
    "  julia> Comp *press Tab*\n",
    "Complex            Complex128          Complex32           Complex64           CompositeException\n",
    "  ~~~\n",
    "  * *Ctrl-R* enables the search through your previous commands. *Esc* to cancel, *Enter* to use the result.\n",
    "    ~~~\n",
    "    *press Ctrl-R, type \"asd\"*\n",
    "    (reverse-i-search)`asd': r = TFile(\"asd.root\", \"RECREATE\")\n",
    "    *Enter* to execute\n",
    "    ~~~\n",
    "  * `ans` is a julia variable which contains the result of the last computation.\n",
    "    ~~~\n",
    "    julia> 1+2\n",
    "    3\n",
    "\n",
    "    julia> ans\n",
    "    3\n",
    "    ~~~\n",
    "  * The `;` character is **not necessary as a line terminator**. However, it can be used to write multiple commands on one line, e.g.\n",
    "    ~~~\n",
    "    julia> x=2/3*pi; sin(x)\n",
    "    0.8660254037844387\n",
    "    ~~~\n",
    "    Also, finalizing a julia command with `;` in an interactive environment such as the REPL or notebook tells julia **not** to print the value from the evaluation of the command. \n",
    "  * To make a multi-line command, press *Shift-Enter* to add a new line and *Enter* to finish the command. For example: \n",
    "    ~~~\n",
    "    julia> x=0;for i=1:100\n",
    "             x += i^2\n",
    "           end\n",
    "    ~~~\n",
    "  "
   ]
  },
  {
   "cell_type": "markdown",
   "metadata": {},
   "source": [
    "### Installing packages"
   ]
  },
  {
   "cell_type": "markdown",
   "metadata": {},
   "source": [
    "In julia, downloading the julia itself gets you only the core language. Additional functionality must be added through packages.\n",
    "Julia has a built-in git-based package system which does most of the work for you.\n",
    "\n",
    "Packages will be installed to the following directory by default:\n",
    "~~~\n",
    "julia> Pkg.dir()\n",
    "\"/Users/joosep/.julia/v0.4\"\n",
    "~~~\n",
    "\n",
    "You can list the installed packages and their versions using:\n",
    "~~~\n",
    "julia> Pkg.status()\n",
    "19 required packages:\n",
    " - ApproxFun                     0.0.8\n",
    " - Blosc                         0.1.4\n",
    " - Clang                         0.0.5\n",
    " ...\n",
    "~~~\n",
    "\n",
    "Note that by default, you won't have any packages installed.\n",
    "\n",
    "Refresh the package database which is stored on github using\n",
    "~~~\n",
    "julia> Pkg.update()\n",
    "~~~\n",
    "\n",
    "Now you are ready to install packages.\n",
    "\n",
    "A list of all julia packages can be found at the official repository in http://pkg.julialang.org/. Make sure to click on `0.4` to select packages compatible with the correct version.\n",
    "\n",
    "Julia packages are all github repositories and their names end with `.jl` to denote that they belong to the julia ecosystem. A few useful packages for physics are:\n",
    "  * [PyPlot.jl](https://github.com/stevengj/PyCall.jl) for making plots using the python plotting library [matplotlib](http://matplotlib.org/).\n",
    "  * [IJulia.jl](https://github.com/stevengj/IJulia.jl) the interactive notebook interface, explained in the section *Installing the notebook: IJulia*.\n",
    "  * [DataFrames.jl](https://github.com/JuliaStats/DataFrames.jl) for managing tabular data.\n",
    "  * [StatsBase.jl](https://github.com/JuliaStats/StatsBase.jl) for simple statistical methods, histograms.\n",
    "  * [Distributions.jl](https://github.com/JuliaStats/Distributions.jl) for manipulating probability distributions.\n",
    "  * [PyCall.jl](https://github.com/stevengj/PyCall.jl) for calling python code from julia.\n",
    "\n",
    "  \n",
    "To install a package which is officially released to the julia repository (all of the above), just call the following, without the `.jl` suffix\n",
    "~~~\n",
    "julia> Pkg.add(\"PyPlot\")\n",
    "~~~\n",
    "This will get PyPlot and all the dependencies. After a successful installation, you can use PyPlot with:"
   ]
  },
  {
   "cell_type": "code",
   "execution_count": 1,
   "metadata": {
    "collapsed": false
   },
   "outputs": [
    {
     "data": {
      "image/png": "[encoded data removed]",
      "text/plain": [
       "PyPlot.Figure(PyObject <matplotlib.figure.Figure object at 0x31b535e10>)"
      ]
     },
     "metadata": {},
     "output_type": "display_data"
    }
   ],
   "source": [
    "using PyPlot\n",
    "x = 0:0.01:2*pi\n",
    "PyPlot.figure(figsize=(3,3))\n",
    "PyPlot.plot(x, sin(x));\n",
    "PyPlot.plot(x, cos(x));\n",
    "PyPlot.savefig(\"figure.pdf\")"
   ]
  },
  {
   "cell_type": "markdown",
   "metadata": {},
   "source": [
    "PyPlot can be used interactively from the REPL or in batch mode, saving the plots to files. PyPlot also integrates well with the julia notebook, which we will look at next."
   ]
  },
  {
   "cell_type": "markdown",
   "metadata": {},
   "source": [
    "### Installing the notebook: IJulia"
   ]
  },
  {
   "cell_type": "markdown",
   "metadata": {
    "collapsed": true
   },
   "source": [
    "IJulia offers a notebook-like interface familiar from Mathematica, built on top of the venerable IPython/Jupyter package.\n",
    "\n",
    "#### Default installation\n",
    "IJulia can be installed automatically using the Pkg system:\n",
    "~~~\n",
    "Pkg.add(\"IJulia\")\n",
    "~~~\n",
    "In case your system does not have a recent python version(>=2.7) or the Jupyter package, it will attempt to install them along with IJulia in such a way that they would not affect the rest of the system.\n",
    "\n",
    "You can test the notebook with\n",
    "~~~\n",
    "julia> using IJulia\n",
    "julia> notebook()\n",
    "~~~\n",
    "which should open a browser window. In case that does not work, try the manual installation.\n",
    "\n",
    "#### Manual installation\n",
    "\n",
    "If the automatic IJulia installation did not work, you can install a recent version of python manually using Anaconda from http://continuum.io/downloads.\n",
    "\n",
    "First, clean up the IJulia package using\n",
    "~~~\n",
    "Pkg.rm(\"IJulia\")\n",
    "~~~\n",
    "\n",
    "Next, download & run the following file to install a new version of python:\n",
    "\n",
    "  * OSX:\n",
    "https://3230d63b5fc54e62148e-c95ac804525aac4b6dba79b00b39d1d3.ssl.cf1.rackcdn.com/Anaconda-2.3.0-MacOSX-x86_64.pkg\n",
    "\n",
    "Choose the **Modify PATH** option in the installer. This will make the new python the default on the system.\n",
    "\n",
    "Once the installer completes, install Jupyter using\n",
    "~~~\n",
    "$ conda install jupyter\n",
    "~~~\n",
    "\n",
    "and test that it works with the standard python kernel using\n",
    "~~~\n",
    "$ jupyter notebook\n",
    "~~~\n",
    "\n",
    "Now follow again the steps in the *Default installation* section above."
   ]
  },
  {
   "cell_type": "markdown",
   "metadata": {
    "collapsed": true
   },
   "source": [
    "### Installing the ROOT bindings"
   ]
  },
  {
   "cell_type": "markdown",
   "metadata": {},
   "source": [
    "To install the ROOT bindings, first make sure that ROOT v6 is set up and accessible from the terminal. Open a new terminal and run\n",
    "~~~\n",
    "$ root-config --version\n",
    "6.02/05\n",
    "~~~\n",
    "\n",
    "If `root-config` is not found, download and install ROOT from\n",
    "  * OSX: https://root.cern.ch/download/root_v6.05.02.macosx64-10.10-clang61.dmg\n",
    "  \n",
    "Afterwards, add ROOT to your `.bash_profile` to initialize it when you start a terminal:\n",
    "\n",
    "~~~\n",
    "echo \"export PATH=/Applications/root_v6.05.02/bin/thisroot.sh:$PATH\" >> ~/.bash_profile\n",
    "~~~\n",
    "\n",
    "Now run the julia terminal and install ROOT.jl. This package is currently not in the official repository, you can install it using\n",
    "\n",
    "~~~\n",
    "julia> Pkg.clone(\"https://github.com/jpata/ROOT.jl.git\")\n",
    "julia> Pkg.build(\"ROOT\")\n",
    "~~~\n",
    "\n",
    "This will compile a special version of the julia executable that is ROOT-enabled. If the compilation was successful, you should see\n",
    "~~~\n",
    "julia> Pkg.build(\"ROOT\")\n",
    "...\n",
    "ROOT.jl compiled!\n",
    "Add the following to your ~/.bashrc or ~/.bash_profile:\n",
    "alias rjulia=\"/Users/joosep/.julia/v0.4/ROOT/julia\"\n",
    "~~~\n",
    "You can add the `alias` command to your `.bash_profile` as a shortcut.\n",
    "\n",
    "Now you are ready to run julia with ROOT and run a self-test of the package.\n",
    "\n",
    "~~~\n",
    "$ /Users/joosep/.julia/v0.4/ROOT/julia\n",
    "julia> Pkg.test(\"ROOT\")\n",
    "...\n",
    "INFO: ROOT tests passed\n",
    "~~~\n",
    "\n",
    "**rjulia should be your default julia executable from now on!**\n",
    "\n",
    "\n",
    "#### Important: Notebook with ROOT\n",
    "If you want to use the IJulia notebook with ROOT, you must re-compile also the notebook.\n",
    "\n",
    "~~~\n",
    "$ /Users/joosep/.julia/v0.4/ROOT/julia\n",
    "julia> Pkg.build(\"IJulia\")\n",
    "julia> using IJulia\n",
    "julia> notebook()\n",
    "~~~\n",
    "Now the notebook will be ROOT-enabled."
   ]
  },
  {
   "cell_type": "markdown",
   "metadata": {},
   "source": [
    "### Adding additional ROOT helpers."
   ]
  },
  {
   "cell_type": "markdown",
   "metadata": {},
   "source": [
    "### Using ROOT"
   ]
  },
  {
   "cell_type": "markdown",
   "metadata": {},
   "source": [
    "Below are some examples on using ROOT from julia in the notebook."
   ]
  },
  {
   "cell_type": "code",
   "execution_count": 17,
   "metadata": {
    "collapsed": false
   },
   "outputs": [],
   "source": [
    "using ROOT, Distributions\n",
    "f = TFile(\"out.root\", \"RECREATE\")\n",
    "h = TH1D(\"hist1\", \"My histogram\", Int32(100), -5.0, 5.0)\n",
    "norm = Normal(0.2, 0.5)\n",
    "for i=1:100000\n",
    "    Fill(h, rand(norm))\n",
    "end\n",
    "\n",
    "#Now we manually get all the bin contents into an array\n",
    "\n",
    "#make an empty vector\n",
    "bins = zeros(GetNbinsX(h))\n",
    "\n",
    "#loop over all histogram bins\n",
    "for ibin=1:GetNbinsX(h)\n",
    "    #get the bin data. Note that GetBinContent wants an Int32 as the bin index\n",
    "    # and indexing in 1-based\n",
    "    bins[ibin] = GetBinContent(h, Int32(ibin))\n",
    "end\n",
    "\n",
    "#lets also save the histogram to a file for inspection\n",
    "Write(f)\n",
    "Close(f)"
   ]
  },
  {
   "cell_type": "code",
   "execution_count": 26,
   "metadata": {
    "collapsed": false
   },
   "outputs": [
    {
     "data": {
      "image/png": "[encoded data removed]",
      "text/plain": [
       "PyPlot.Figure(PyObject <matplotlib.figure.Figure object at 0x31b051f50>)"
      ]
     },
     "metadata": {},
     "output_type": "display_data"
    }
   ],
   "source": [
    "PyPlot.figure(figsize=(3,3))\n",
    "PyPlot.plot(bins);"
   ]
  },
  {
   "cell_type": "markdown",
   "metadata": {},
   "source": [
    "We can also load the histogram from the file."
   ]
  },
  {
   "cell_type": "code",
   "execution_count": 28,
   "metadata": {
    "collapsed": false
   },
   "outputs": [],
   "source": [
    "f = TFile(\"out.root\")\n",
    "\n",
    "#we have to manually tell ROOT that the object `hist1` is a TH1D\n",
    "h = root_cast(TH1D, Get(f, \"hist1\"))\n",
    "\n",
    "#lets make a helper function to get the bin data\n",
    "function getbins(h::TH1D)\n",
    "    bins = zeros(GetNbinsX(h))\n",
    "\n",
    "    #loop over all histogram bins\n",
    "    for ibin=1:GetNbinsX(h)\n",
    "        #get the bin data. Note that GetBinContent wants an Int32 as the bin index\n",
    "        # and indexing in 1-based\n",
    "        bins[ibin] = GetBinContent(h, Int32(ibin))\n",
    "    end\n",
    "    return bins\n",
    "end\n",
    "\n",
    "bins2 = getbins(h);"
   ]
  },
  {
   "cell_type": "code",
   "execution_count": 27,
   "metadata": {
    "collapsed": false
   },
   "outputs": [
    {
     "data": {
      "image/png": "[encoded data removed]",
      "text/plain": [
       "PyPlot.Figure(PyObject <matplotlib.figure.Figure object at 0x31e8cba90>)"
      ]
     },
     "metadata": {},
     "output_type": "display_data"
    }
   ],
   "source": [
    "PyPlot.figure(figsize=(3,3))\n",
    "PyPlot.plot(bins);\n",
    "PyPlot.plot(bins2);"
   ]
  }
 ],
 "metadata": {
  "kernelspec": {
   "display_name": "Julia 0.4.0-rc2",
   "language": "julia",
   "name": "julia-0.4"
  },
  "language_info": {
   "file_extension": ".jl",
   "mimetype": "application/julia",
   "name": "julia",
   "version": "0.4.0"
  }
 },
 "nbformat": 4,
 "nbformat_minor": 0
}
