{
 "cells": [
  {
   "cell_type": "code",
   "execution_count": 1,
   "metadata": {
    "collapsed": true
   },
   "outputs": [],
   "source": [
    "using ROOT, Cxx"
   ]
  },
  {
   "cell_type": "code",
   "execution_count": 2,
   "metadata": {
    "collapsed": false
   },
   "outputs": [
    {
     "data": {
      "text/plain": [
       "Ptr{Void} @0x00007fea7905d6a0"
      ]
     },
     "execution_count": 2,
     "metadata": {},
     "output_type": "execute_result"
    }
   ],
   "source": [
    "addHeaderDir(\"/usr/local/include/\", kind=C_System)\n",
    "Libdl.dlopen(\"/usr/local/lib/libfastjet.dylib\", Libdl.RTLD_GLOBAL)"
   ]
  },
  {
   "cell_type": "code",
   "execution_count": 3,
   "metadata": {
    "collapsed": false
   },
   "outputs": [],
   "source": [
    "cxx\"\"\"\n",
    "#include <fastjet/ClusterSequence.hh>\n",
    "#include <vector>\n",
    "#include <iostream>\n",
    "using namespace fastjet;\n",
    "using namespace std;\n",
    "\"\"\";"
   ]
  },
  {
   "cell_type": "code",
   "execution_count": 4,
   "metadata": {
    "collapsed": false
   },
   "outputs": [],
   "source": [
    "cxx\"\"\"\n",
    "#include \"HepMC/IO_GenEvent.h\"\n",
    "#include \"HepMC/GenEvent.h\"\n",
    "\"\"\"\n",
    "Libdl.dlopen(\"/usr/local/lib/libHepMC.dylib\", Libdl.RTLD_GLOBAL);"
   ]
  },
  {
   "cell_type": "code",
   "execution_count": 14,
   "metadata": {
    "collapsed": false
   },
   "outputs": [
    {
     "data": {
      "text/plain": [
       "(class HepMC::IO_GenEvent *) @0x00007fea7a9bf490\n"
      ]
     },
     "execution_count": 14,
     "metadata": {},
     "output_type": "execute_result"
    }
   ],
   "source": [
    "ascii_in = @cxxnew HepMC::IO_GenEvent(\n",
    "    pointer(\"/Users/joosep/Downloads/LO_stab/S_stab_1.hepmc2g\"),\n",
    "    @cxx(std::ios::in)\n",
    ")\n"
   ]
  },
  {
   "cell_type": "code",
   "execution_count": 15,
   "metadata": {
    "collapsed": false,
    "scrolled": false
   },
   "outputs": [
    {
     "name": "stdout",
     "output_type": "stream",
     "text": [
      "Event 1\n",
      "90.81439329202 0.0 0.0 90.81439329202\n",
      "588.8456658471 0.0 0.0 -588.8456658471\n",
      "309.883230698 8.179088763524 50.82429302188 -251.7525976304\n",
      "Found 27 particles\n",
      "Event 2\n",
      "963.8789444968 0.0 0.0 963.8789444968\n",
      "77.36704005423 0.0 0.0 -77.36704005423\n",
      "277.891867335 133.9773432372 -27.97566432485 168.7989444149\n",
      "Found 23 particles\n",
      "Event 3\n",
      "90.73741609849 0.0 0.0 90.73741609849\n",
      "1047.761019088 0.0 0.0 -1047.761019088\n",
      "469.7962973271 -99.83283950647 -167.0502789088 -390.9449186967\n",
      "Found 32 particles\n",
      "Event 4\n",
      "511.8566702261 0.0 0.0 511.8566702261\n",
      "568.3402190547 0.0 0.0 -568.3402190547\n",
      "354.140522975 4.895992592966 248.843603278 182.9485183793\n",
      "Found 41 particles\n",
      "Event 5\n",
      "1849.22438182 0.0 0.0 1849.22438182\n",
      "25.94113681504 0.0 0.0 -25.94113681504\n",
      "1133.776986661 96.32401639758 40.00537560618 1115.60444122\n",
      "Found 29 particles\n",
      "Event 6\n",
      "191.61787639 0.0 0.0 191.61787639\n",
      "621.9641767622 0.0 0.0 -621.9641767622\n",
      "202.2427751728 -11.29439882456 68.80686016018 -77.7299984541\n",
      "Found 26 particles\n",
      "Event 7\n",
      "214.3606407941 0.0 0.0 214.3606407941\n",
      "1913.603935046 0.0 0.0 -1913.603935046\n",
      "1297.691137262 -372.5155055602 374.07439877 -1172.733810389\n",
      "Found 37 particles\n",
      "Event 8\n",
      "453.7448838028 0.0 0.0 453.7448838028\n",
      "209.7474611965 0.0 0.0 -209.7474611965\n",
      "266.8866613638 104.1220241882 174.3194316121 1.260894647427\n",
      "Found 31 particles\n",
      "Event 9\n",
      "504.721430064 0.0 0.0 504.721430064\n",
      "109.8313753027 0.0 0.0 -109.8313753027\n",
      "215.5551277803 39.87190555114 -94.72786317774 76.82861574891\n",
      "Found 21 particles\n",
      "Event 10\n",
      "247.1430021044 0.0 0.0 247.1430021044\n",
      "414.6191081935 0.0 0.0 -414.6191081935\n",
      "262.7019483152 78.76343292543 -25.08850515126 -179.3905298272\n",
      "Found 25 particles\n"
     ]
    }
   ],
   "source": [
    "iev = 1\n",
    "evt = @cxx ascii_in->read_next_event()\n",
    "while evt != C_NULL\n",
    "    iev > 10 && break\n",
    "    println(\"Event $iev\")\n",
    "    evt = @cxx ascii_in->read_next_event()\n",
    "    \n",
    "    part_iter = @cxx(evt->particles_begin())\n",
    "    ipart = 1\n",
    "    while icxx\"\"\"!($part_iter == $evt->particles_end());\"\"\"\n",
    "        part = icxx\"\"\"*$part_iter;\"\"\"\n",
    "        p4 = @cxx(part->momentum())\n",
    "        e = @cxx(p4->e())\n",
    "        px = @cxx(p4->px())\n",
    "        py = @cxx(p4->py())\n",
    "        pz = @cxx(p4->pz())\n",
    "        ipart += 1\n",
    "        icxx\"\"\"++$part_iter;\"\"\"s\n",
    "        e>10 && ipart<5 && println(\"$e $px $py $pz\")\n",
    "    end\n",
    "    println(\"Found $ipart particles\")\n",
    "    iev += 1\n",
    "end"
   ]
  },
  {
   "cell_type": "code",
   "execution_count": 16,
   "metadata": {
    "collapsed": false
   },
   "outputs": [
    {
     "data": {
      "text/plain": [
       "f (generic function with 1 method)"
      ]
     },
     "execution_count": 16,
     "metadata": {},
     "output_type": "execute_result"
    }
   ],
   "source": [
    "function f(s::ASCIIString)\n",
    "    ps = pointer(s)\n",
    "    icxx\"\"\" cout << $ps << endl;\"\"\";\n",
    "    nothing\n",
    "end"
   ]
  },
  {
   "cell_type": "code",
   "execution_count": 17,
   "metadata": {
    "collapsed": false
   },
   "outputs": [],
   "source": [
    "@cxxm \"double g(double x, double y)\" begin\n",
    "    vd = icxx\"\"\"vector<double>\"\"\"\n",
    "    x^y\n",
    "end"
   ]
  },
  {
   "cell_type": "code",
   "execution_count": 18,
   "metadata": {
    "collapsed": false
   },
   "outputs": [
    {
     "data": {
      "text/plain": [
       "16.0"
      ]
     },
     "execution_count": 18,
     "metadata": {},
     "output_type": "execute_result"
    }
   ],
   "source": [
    "@cxx(g(2,4))"
   ]
  }
 ],
 "metadata": {
  "kernelspec": {
   "display_name": "Julia 0.5.0-dev",
   "language": "julia",
   "name": "julia-0.5"
  },
  "language_info": {
   "file_extension": ".jl",
   "mimetype": "application/julia",
   "name": "julia",
   "version": "0.5.0"
  }
 },
 "nbformat": 4,
 "nbformat_minor": 0
}
